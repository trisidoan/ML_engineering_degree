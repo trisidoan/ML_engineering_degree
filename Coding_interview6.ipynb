{
 "cells": [
  {
   "cell_type": "markdown",
   "metadata": {},
   "source": [
    "The Tower Hopper problem gives us an array of values representing heights that express how far we can jump from a certain tower, and asks whether there's a way to get from tower[0] (0 indexed) to outside of the array.\n",
    "\n",
    "For ex, if we have towers = [4, 2, 0, 0, 2, 0], we can jump from towers[0] to towers[4] and then outside of the bounds of the array. Or we could jump from towers[0] to towers[1] to towers[4] and then out of the array. But if we had towers = [4, 2, 0, 0, 1, 0], there would be no way to hop out of the array and we should return False."
   ]
  },
  {
   "cell_type": "markdown",
   "metadata": {},
   "source": [
    "Input: arr[] = {1, 3, 5, 8, 9, 2, 6, 7, 6, 8, 9}   \n",
    "Output: 3 (1-> 3 -> 8 -> 9)   \n",
    "Explanation: Jump from 1st element to 2nd element as there is only 1 step, now there are three options 5, 8 or 9. \n",
    "\n",
    "If 8 or 9 is chosen then the end node 9 can be reached. So 3 jumps are made.  \n",
    "\n",
    "Input:  arr[] = {1, 1, 1, 1, 1, 1, 1, 1, 1, 1, 1}   \n",
    "Output: 10   \n",
    "Explanation: In every step a jump is needed so the count of jumps is 10."
   ]
  },
  {
   "cell_type": "code",
   "execution_count": null,
   "metadata": {},
   "outputs": [],
   "source": []
  }
 ],
 "metadata": {
  "kernelspec": {
   "display_name": "Python 3",
   "language": "python",
   "name": "python3"
  },
  "language_info": {
   "codemirror_mode": {
    "name": "ipython",
    "version": 3
   },
   "file_extension": ".py",
   "mimetype": "text/x-python",
   "name": "python",
   "nbconvert_exporter": "python",
   "pygments_lexer": "ipython3",
   "version": "3.7.7"
  }
 },
 "nbformat": 4,
 "nbformat_minor": 4
}
