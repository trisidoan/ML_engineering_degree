{
 "cells": [
  {
   "cell_type": "markdown",
   "metadata": {},
   "source": [
    "The Tower Hopper problem gives us an array of values representing heights that express how far we can jump from a certain tower, and asks whether there's a way to get from tower[0] (0 indexed) to outside of the array.\n",
    "\n",
    "For ex, if we have towers = [4, 2, 0, 0, 2, 0], we can jump from towers[0] to towers[4] and then outside of the bounds of the array. Or we could jump from towers[0] to towers[1] to towers[4] and then out of the array. But if we had towers = [4, 2, 0, 0, 1, 0], there would be no way to hop out of the array and we should return False."
   ]
  },
  {
   "cell_type": "markdown",
   "metadata": {},
   "source": [
    "Input: arr[] = {1, 3, 5, 8, 9, 2, 6, 7, 6, 8, 9}   \n",
    "Output: 3 (1-> 3 -> 8 -> 9)   \n",
    "Explanation: Jump from 1st element to 2nd element as there is only 1 step, now there are three options 5, 8 or 9. \n",
    "\n",
    "If 8 or 9 is chosen then the end node 9 can be reached. So 3 jumps are made.  \n",
    "\n",
    "Input:  arr[] = {1, 1, 1, 1, 1, 1, 1, 1, 1, 1, 1}   \n",
    "Output: 10   \n",
    "Explanation: In every step a jump is needed so the count of jumps is 10."
   ]
  },
  {
   "cell_type": "code",
   "execution_count": null,
   "metadata": {},
   "outputs": [],
   "source": [
    "def is_hopeable(towers):\n",
    "    current = 0\n",
    "    while True:\n",
    "        if current > len(towers):\n",
    "            return True\n",
    "        if tower[current] == 0:\n",
    "            return False\n",
    "        current = next_step(current, towers)\n",
    "        "
   ]
  },
  {
   "cell_type": "code",
   "execution_count": 1,
   "metadata": {},
   "outputs": [
    {
     "name": "stdout",
     "output_type": "stream",
     "text": [
      "Minimum number of jumps to reach end is 4\n"
     ]
    }
   ],
   "source": [
    "def minJumps(arr, l, h): \n",
    "  \n",
    "    # Base case: when source and \n",
    "    # destination are same \n",
    "    if (h == l): \n",
    "        return 0\n",
    "  \n",
    "    # when nothing is reachable  \n",
    "    # from the given source \n",
    "    if (arr[l] == 0): \n",
    "        return float('inf') \n",
    "  \n",
    "    # Traverse through all the points  \n",
    "    # reachable from arr[l]. Recursively  \n",
    "    # get the minimum number of jumps  \n",
    "    # needed to reach arr[h] from  \n",
    "    # these reachable points. \n",
    "    min = float('inf') \n",
    "    for i in range(l + 1, h + 1): \n",
    "        if (i < l + arr[l] + 1): \n",
    "            jumps = minJumps(arr, i, h) \n",
    "            if (jumps != float('inf') and \n",
    "                       jumps + 1 < min): \n",
    "                min = jumps + 1\n",
    "  \n",
    "    return min\n",
    "  \n",
    "# Driver program to test above function \n",
    "arr = [1, 3, 6, 3, 2, 3, 6, 8, 9, 5] \n",
    "n = len(arr) \n",
    "print('Minimum number of jumps to reach', \n",
    "     'end is', minJumps(arr, 0, n-1))"
   ]
  },
  {
   "cell_type": "markdown",
   "metadata": {},
   "source": [
    "**Complexity Analysis:**.  \n",
    "\n",
    "Time complexity: O(n^n).    \n",
    "There are maximum n possible ways to move from a element. So maximum number of steps can be N^N so the upperbound of time complexity is O(n^n)    \n",
    "Auxiliary Space: O(1).   \n",
    "There is no space required (if recursive stack space is ignored)."
   ]
  },
  {
   "cell_type": "markdown",
   "metadata": {},
   "source": [
    "## Method 2: Dynamic Programming."
   ]
  },
  {
   "cell_type": "code",
   "execution_count": 2,
   "metadata": {},
   "outputs": [
    {
     "name": "stdout",
     "output_type": "stream",
     "text": [
      "Minimum number of jumps to reach end is 3\n"
     ]
    }
   ],
   "source": [
    "def minJumps(arr, n): \n",
    "    jumps = [0 for i in range(n)] \n",
    "  \n",
    "    if (n == 0) or (arr[0] == 0): \n",
    "        return float('inf') \n",
    "  \n",
    "    jumps[0] = 0\n",
    "  \n",
    "    # Find the minimum number of  \n",
    "    # jumps to reach arr[i] from  \n",
    "    # arr[0] and assign this  \n",
    "    # value to jumps[i] \n",
    "    for i in range(1, n): \n",
    "        jumps[i] = float('inf') \n",
    "        for j in range(i): \n",
    "            if (i <= j + arr[j]) and (jumps[j] != float('inf')): \n",
    "                jumps[i] = min(jumps[i], jumps[j] + 1) \n",
    "                break\n",
    "    return jumps[n-1] \n",
    "  \n",
    "# Driver Program to test above function \n",
    "arr = [1, 3, 6, 1, 0, 9] \n",
    "size = len(arr) \n",
    "print('Minimum number of jumps to reach', \n",
    "      'end is', minJumps(arr, size)) \n",
    "  "
   ]
  },
  {
   "cell_type": "code",
   "execution_count": null,
   "metadata": {},
   "outputs": [],
   "source": []
  }
 ],
 "metadata": {
  "kernelspec": {
   "display_name": "Python 3",
   "language": "python",
   "name": "python3"
  },
  "language_info": {
   "codemirror_mode": {
    "name": "ipython",
    "version": 3
   },
   "file_extension": ".py",
   "mimetype": "text/x-python",
   "name": "python",
   "nbconvert_exporter": "python",
   "pygments_lexer": "ipython3",
   "version": "3.7.7"
  }
 },
 "nbformat": 4,
 "nbformat_minor": 4
}
