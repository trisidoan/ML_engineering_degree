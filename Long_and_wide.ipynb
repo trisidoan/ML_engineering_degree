{
 "cells": [
  {
   "cell_type": "markdown",
   "metadata": {},
   "source": [
    "# Long, Wide Data and How to Efficiently Plot Them\n",
    "\n",
    "---\n",
    "## Introduction\n",
    "\n",
    "Often times when we deal with data, it comes with different formats. If you scrapped the data from a website, likely it is in **wide format**. In fact most data we physically see is in this format, since wide data is very intuitive and easier to understand. One good example would be this [NBA stat page from ESPN](https://www.espn.com/nba/stats/player/_/table/offensive/sort/avgPoints/dir/desc). \n",
    "\n",
    "On the other hand, **long format** data is less often to see. However it has it's own advanges like:\n",
    "   * fast processing (using vectorized operation)\n",
    "   * required by certain advanced statistical analysis and graphing \n",
    "\n",
    "In this notebook, I'll show how to transform the data between the two formats, how is long format faster to process, and how to effeciently plot each format. We will use the monthly precipitation data for San Francisco and Sacramento as our examples. \n",
    "\n",
    "---\n",
    "\n",
    "*Note: the weather data is retrieved from [this website](https://w2.weather.gov/climate/xmacis.php?wfo=mtr)  .*"
   ]
  },
  {
   "cell_type": "markdown",
   "metadata": {},
   "source": [
    "## Data set and preparation"
   ]
  },
  {
   "cell_type": "code",
   "execution_count": 1,
   "metadata": {},
   "outputs": [],
   "source": [
    "# import the necessary libs\n",
    "import pandas as pd\n",
    "import numpy as np\n",
    "import matplotlib.pyplot as plt\n",
    "import seaborn as sns\n",
    "\n",
    "%matplotlib inline"
   ]
  },
  {
   "cell_type": "code",
   "execution_count": 2,
   "metadata": {},
   "outputs": [],
   "source": [
    "# load the data to dataframe, we retrieved two cities in California: San Francisco and Sacramento\n",
    "# the two data sets have the same structure\n",
    "sf = pd.read_csv('SF_rainfall.csv')\n",
    "sac = pd.read_csv('Sacramento_rainfall.csv') "
   ]
  },
  {
   "cell_type": "code",
   "execution_count": 3,
   "metadata": {},
   "outputs": [
    {
     "data": {
      "text/html": [
       "<div>\n",
       "<style scoped>\n",
       "    .dataframe tbody tr th:only-of-type {\n",
       "        vertical-align: middle;\n",
       "    }\n",
       "\n",
       "    .dataframe tbody tr th {\n",
       "        vertical-align: top;\n",
       "    }\n",
       "\n",
       "    .dataframe thead th {\n",
       "        text-align: right;\n",
       "    }\n",
       "</style>\n",
       "<table border=\"1\" class=\"dataframe\">\n",
       "  <thead>\n",
       "    <tr style=\"text-align: right;\">\n",
       "      <th></th>\n",
       "      <th>Year</th>\n",
       "      <th>Jan</th>\n",
       "      <th>Feb</th>\n",
       "      <th>Mar</th>\n",
       "      <th>Apr</th>\n",
       "      <th>May</th>\n",
       "      <th>Jun</th>\n",
       "      <th>Jul</th>\n",
       "      <th>Aug</th>\n",
       "      <th>Sep</th>\n",
       "      <th>Oct</th>\n",
       "      <th>Nov</th>\n",
       "      <th>Dec</th>\n",
       "      <th>Annual</th>\n",
       "    </tr>\n",
       "  </thead>\n",
       "  <tbody>\n",
       "    <tr>\n",
       "      <td>0</td>\n",
       "      <td>2000</td>\n",
       "      <td>6.41</td>\n",
       "      <td>8.96</td>\n",
       "      <td>2.04</td>\n",
       "      <td>1.66</td>\n",
       "      <td>1.40</td>\n",
       "      <td>0.16</td>\n",
       "      <td>0.02</td>\n",
       "      <td>0.02</td>\n",
       "      <td>0.21</td>\n",
       "      <td>2.38</td>\n",
       "      <td>0.85</td>\n",
       "      <td>0.90</td>\n",
       "      <td>25.01</td>\n",
       "    </tr>\n",
       "    <tr>\n",
       "      <td>1</td>\n",
       "      <td>2001</td>\n",
       "      <td>3.76</td>\n",
       "      <td>7.73</td>\n",
       "      <td>1.58</td>\n",
       "      <td>1.89</td>\n",
       "      <td>0.00</td>\n",
       "      <td>0.15</td>\n",
       "      <td>0.01</td>\n",
       "      <td>0.05</td>\n",
       "      <td>0.18</td>\n",
       "      <td>0.51</td>\n",
       "      <td>5.18</td>\n",
       "      <td>10.75</td>\n",
       "      <td>31.79</td>\n",
       "    </tr>\n",
       "    <tr>\n",
       "      <td>2</td>\n",
       "      <td>2002</td>\n",
       "      <td>2.13</td>\n",
       "      <td>2.59</td>\n",
       "      <td>2.27</td>\n",
       "      <td>0.52</td>\n",
       "      <td>0.84</td>\n",
       "      <td>0.03</td>\n",
       "      <td>0.00</td>\n",
       "      <td>0.03</td>\n",
       "      <td>0.01</td>\n",
       "      <td>0.01</td>\n",
       "      <td>2.00</td>\n",
       "      <td>12.03</td>\n",
       "      <td>22.46</td>\n",
       "    </tr>\n",
       "    <tr>\n",
       "      <td>3</td>\n",
       "      <td>2003</td>\n",
       "      <td>1.75</td>\n",
       "      <td>1.80</td>\n",
       "      <td>1.71</td>\n",
       "      <td>3.60</td>\n",
       "      <td>0.93</td>\n",
       "      <td>0.00</td>\n",
       "      <td>0.00</td>\n",
       "      <td>0.06</td>\n",
       "      <td>0.00</td>\n",
       "      <td>0.04</td>\n",
       "      <td>2.22</td>\n",
       "      <td>7.69</td>\n",
       "      <td>19.80</td>\n",
       "    </tr>\n",
       "    <tr>\n",
       "      <td>4</td>\n",
       "      <td>2004</td>\n",
       "      <td>3.40</td>\n",
       "      <td>5.67</td>\n",
       "      <td>1.16</td>\n",
       "      <td>0.12</td>\n",
       "      <td>0.12</td>\n",
       "      <td>0.00</td>\n",
       "      <td>0.00</td>\n",
       "      <td>0.05</td>\n",
       "      <td>0.04</td>\n",
       "      <td>2.62</td>\n",
       "      <td>2.07</td>\n",
       "      <td>7.98</td>\n",
       "      <td>23.23</td>\n",
       "    </tr>\n",
       "  </tbody>\n",
       "</table>\n",
       "</div>"
      ],
      "text/plain": [
       "   Year   Jan   Feb   Mar   Apr   May   Jun   Jul   Aug   Sep   Oct   Nov  \\\n",
       "0  2000  6.41  8.96  2.04  1.66  1.40  0.16  0.02  0.02  0.21  2.38  0.85   \n",
       "1  2001  3.76  7.73  1.58  1.89  0.00  0.15  0.01  0.05  0.18  0.51  5.18   \n",
       "2  2002  2.13  2.59  2.27  0.52  0.84  0.03  0.00  0.03  0.01  0.01  2.00   \n",
       "3  2003  1.75  1.80  1.71  3.60  0.93  0.00  0.00  0.06  0.00  0.04  2.22   \n",
       "4  2004  3.40  5.67  1.16  0.12  0.12  0.00  0.00  0.05  0.04  2.62  2.07   \n",
       "\n",
       "     Dec Annual  \n",
       "0   0.90  25.01  \n",
       "1  10.75  31.79  \n",
       "2  12.03  22.46  \n",
       "3   7.69  19.80  \n",
       "4   7.98  23.23  "
      ]
     },
     "execution_count": 3,
     "metadata": {},
     "output_type": "execute_result"
    }
   ],
   "source": [
    "sf.head(5)"
   ]
  },
  {
   "cell_type": "code",
   "execution_count": 4,
   "metadata": {},
   "outputs": [
    {
     "name": "stdout",
     "output_type": "stream",
     "text": [
      "<class 'pandas.core.frame.DataFrame'>\n",
      "RangeIndex: 20 entries, 0 to 19\n",
      "Data columns (total 14 columns):\n",
      "Year      20 non-null int64\n",
      "Jan       20 non-null float64\n",
      "Feb       20 non-null float64\n",
      "Mar       20 non-null float64\n",
      "Apr       20 non-null float64\n",
      "May       20 non-null float64\n",
      "Jun       20 non-null float64\n",
      "Jul       20 non-null float64\n",
      "Aug       20 non-null float64\n",
      "Sep       20 non-null float64\n",
      "Oct       20 non-null float64\n",
      "Nov       20 non-null float64\n",
      "Dec       20 non-null object\n",
      "Annual    20 non-null object\n",
      "dtypes: float64(11), int64(1), object(2)\n",
      "memory usage: 2.3+ KB\n"
     ]
    }
   ],
   "source": [
    "sf.info()"
   ]
  },
  {
   "cell_type": "code",
   "execution_count": 5,
   "metadata": {},
   "outputs": [
    {
     "data": {
      "text/html": [
       "<div>\n",
       "<style scoped>\n",
       "    .dataframe tbody tr th:only-of-type {\n",
       "        vertical-align: middle;\n",
       "    }\n",
       "\n",
       "    .dataframe tbody tr th {\n",
       "        vertical-align: top;\n",
       "    }\n",
       "\n",
       "    .dataframe thead th {\n",
       "        text-align: right;\n",
       "    }\n",
       "</style>\n",
       "<table border=\"1\" class=\"dataframe\">\n",
       "  <thead>\n",
       "    <tr style=\"text-align: right;\">\n",
       "      <th></th>\n",
       "      <th>Year</th>\n",
       "      <th>Jan</th>\n",
       "      <th>Feb</th>\n",
       "      <th>Mar</th>\n",
       "      <th>Apr</th>\n",
       "      <th>May</th>\n",
       "      <th>Jun</th>\n",
       "      <th>Jul</th>\n",
       "      <th>Aug</th>\n",
       "      <th>Sep</th>\n",
       "      <th>Oct</th>\n",
       "      <th>Nov</th>\n",
       "      <th>Dec</th>\n",
       "      <th>Annual</th>\n",
       "    </tr>\n",
       "  </thead>\n",
       "  <tbody>\n",
       "    <tr>\n",
       "      <td>15</td>\n",
       "      <td>2015</td>\n",
       "      <td>0.00</td>\n",
       "      <td>1.47</td>\n",
       "      <td>0.12</td>\n",
       "      <td>1.30</td>\n",
       "      <td>0.09</td>\n",
       "      <td>0.12</td>\n",
       "      <td>0.09</td>\n",
       "      <td>0.02</td>\n",
       "      <td>0.09</td>\n",
       "      <td>0.00</td>\n",
       "      <td>1.43</td>\n",
       "      <td>5.18</td>\n",
       "      <td>9.91</td>\n",
       "    </tr>\n",
       "    <tr>\n",
       "      <td>16</td>\n",
       "      <td>2016</td>\n",
       "      <td>6.94</td>\n",
       "      <td>0.98</td>\n",
       "      <td>6.83</td>\n",
       "      <td>1.46</td>\n",
       "      <td>0.15</td>\n",
       "      <td>0.00</td>\n",
       "      <td>0.02</td>\n",
       "      <td>0.02</td>\n",
       "      <td>0.00</td>\n",
       "      <td>2.43</td>\n",
       "      <td>2.21</td>\n",
       "      <td>4.39</td>\n",
       "      <td>25.43</td>\n",
       "    </tr>\n",
       "    <tr>\n",
       "      <td>17</td>\n",
       "      <td>2017</td>\n",
       "      <td>9.42</td>\n",
       "      <td>7.60</td>\n",
       "      <td>3.93</td>\n",
       "      <td>2.25</td>\n",
       "      <td>0.00</td>\n",
       "      <td>0.10</td>\n",
       "      <td>0.00</td>\n",
       "      <td>0.01</td>\n",
       "      <td>0.10</td>\n",
       "      <td>0.31</td>\n",
       "      <td>2.83</td>\n",
       "      <td>0.15</td>\n",
       "      <td>26.70</td>\n",
       "    </tr>\n",
       "    <tr>\n",
       "      <td>18</td>\n",
       "      <td>2018</td>\n",
       "      <td>5.21</td>\n",
       "      <td>0.21</td>\n",
       "      <td>4.54</td>\n",
       "      <td>3.91</td>\n",
       "      <td>0.04</td>\n",
       "      <td>0.01</td>\n",
       "      <td>0.00</td>\n",
       "      <td>0.00</td>\n",
       "      <td>0.00</td>\n",
       "      <td>0.21</td>\n",
       "      <td>3.56</td>\n",
       "      <td>2.18</td>\n",
       "      <td>19.87</td>\n",
       "    </tr>\n",
       "    <tr>\n",
       "      <td>19</td>\n",
       "      <td>2019</td>\n",
       "      <td>5.13</td>\n",
       "      <td>7.94</td>\n",
       "      <td>4.31</td>\n",
       "      <td>0.43</td>\n",
       "      <td>1.94</td>\n",
       "      <td>0.00</td>\n",
       "      <td>0.00</td>\n",
       "      <td>0.00</td>\n",
       "      <td>0.12</td>\n",
       "      <td>0.01</td>\n",
       "      <td>1.46</td>\n",
       "      <td>M</td>\n",
       "      <td>M</td>\n",
       "    </tr>\n",
       "  </tbody>\n",
       "</table>\n",
       "</div>"
      ],
      "text/plain": [
       "    Year   Jan   Feb   Mar   Apr   May   Jun   Jul   Aug   Sep   Oct   Nov  \\\n",
       "15  2015  0.00  1.47  0.12  1.30  0.09  0.12  0.09  0.02  0.09  0.00  1.43   \n",
       "16  2016  6.94  0.98  6.83  1.46  0.15  0.00  0.02  0.02  0.00  2.43  2.21   \n",
       "17  2017  9.42  7.60  3.93  2.25  0.00  0.10  0.00  0.01  0.10  0.31  2.83   \n",
       "18  2018  5.21  0.21  4.54  3.91  0.04  0.01  0.00  0.00  0.00  0.21  3.56   \n",
       "19  2019  5.13  7.94  4.31  0.43  1.94  0.00  0.00  0.00  0.12  0.01  1.46   \n",
       "\n",
       "     Dec Annual  \n",
       "15  5.18   9.91  \n",
       "16  4.39  25.43  \n",
       "17  0.15  26.70  \n",
       "18  2.18  19.87  \n",
       "19     M      M  "
      ]
     },
     "execution_count": 5,
     "metadata": {},
     "output_type": "execute_result"
    }
   ],
   "source": [
    "sf.tail()"
   ]
  },
  {
   "cell_type": "markdown",
   "metadata": {},
   "source": [
    "Here is our observation of the data:\n",
    "1. Unit of the monthly percipitation is inch\n",
    "2. The first eleven months' data are stored as float, however the month of December and annual total are not\n",
    "3. We need to looking into the data and convet them into float\n",
    "4. It's because we are still in December of this year...the data is not yet available"
   ]
  },
  {
   "cell_type": "code",
   "execution_count": 6,
   "metadata": {
    "scrolled": false
   },
   "outputs": [
    {
     "data": {
      "text/html": [
       "<div>\n",
       "<style scoped>\n",
       "    .dataframe tbody tr th:only-of-type {\n",
       "        vertical-align: middle;\n",
       "    }\n",
       "\n",
       "    .dataframe tbody tr th {\n",
       "        vertical-align: top;\n",
       "    }\n",
       "\n",
       "    .dataframe thead th {\n",
       "        text-align: right;\n",
       "    }\n",
       "</style>\n",
       "<table border=\"1\" class=\"dataframe\">\n",
       "  <thead>\n",
       "    <tr style=\"text-align: right;\">\n",
       "      <th></th>\n",
       "      <th>Dec</th>\n",
       "      <th>Annual</th>\n",
       "    </tr>\n",
       "  </thead>\n",
       "  <tbody>\n",
       "    <tr>\n",
       "      <td>&lt;class 'str'&gt;</td>\n",
       "      <td>20</td>\n",
       "      <td>20</td>\n",
       "    </tr>\n",
       "  </tbody>\n",
       "</table>\n",
       "</div>"
      ],
      "text/plain": [
       "               Dec  Annual\n",
       "<class 'str'>   20      20"
      ]
     },
     "execution_count": 6,
     "metadata": {},
     "output_type": "execute_result"
    }
   ],
   "source": [
    "sf.iloc[:, -2:].applymap(type).apply(pd.value_counts)"
   ]
  },
  {
   "cell_type": "markdown",
   "metadata": {},
   "source": [
    "So the last two columns are all strings, next I need to conver the first 19 rows to float and find a way to fill the last row of Dec and Annual. "
   ]
  },
  {
   "cell_type": "code",
   "execution_count": 7,
   "metadata": {},
   "outputs": [],
   "source": [
    "# convert to float for last two columns\n",
    "# we coerced the convertion of the last row, it will be 'NaN'\n",
    "sf.iloc[:, 12:] = sf.iloc[:, 12:].apply(pd.to_numeric, errors = 'coerce')"
   ]
  },
  {
   "cell_type": "markdown",
   "metadata": {},
   "source": [
    "Now that we have convert the strings to float, we can fill the last row with some educated guess. Here I will just use the averge percipitation of December of the last 19 years, and then sum up for year 2019."
   ]
  },
  {
   "cell_type": "code",
   "execution_count": 8,
   "metadata": {},
   "outputs": [],
   "source": [
    "# fill the last row\n",
    "sf.iloc[19, 12] = round(sf.iloc[:-1, 12].mean(),2)\n",
    "sf.iloc[19, 13] = sf.iloc[19, 1:-1].sum()"
   ]
  },
  {
   "cell_type": "code",
   "execution_count": 9,
   "metadata": {},
   "outputs": [
    {
     "data": {
      "text/html": [
       "<div>\n",
       "<style scoped>\n",
       "    .dataframe tbody tr th:only-of-type {\n",
       "        vertical-align: middle;\n",
       "    }\n",
       "\n",
       "    .dataframe tbody tr th {\n",
       "        vertical-align: top;\n",
       "    }\n",
       "\n",
       "    .dataframe thead th {\n",
       "        text-align: right;\n",
       "    }\n",
       "</style>\n",
       "<table border=\"1\" class=\"dataframe\">\n",
       "  <thead>\n",
       "    <tr style=\"text-align: right;\">\n",
       "      <th></th>\n",
       "      <th>Year</th>\n",
       "      <th>Jan</th>\n",
       "      <th>Feb</th>\n",
       "      <th>Mar</th>\n",
       "      <th>Apr</th>\n",
       "      <th>May</th>\n",
       "      <th>Jun</th>\n",
       "      <th>Jul</th>\n",
       "      <th>Aug</th>\n",
       "      <th>Sep</th>\n",
       "      <th>Oct</th>\n",
       "      <th>Nov</th>\n",
       "      <th>Dec</th>\n",
       "      <th>Annual</th>\n",
       "    </tr>\n",
       "  </thead>\n",
       "  <tbody>\n",
       "    <tr>\n",
       "      <td>18</td>\n",
       "      <td>2018</td>\n",
       "      <td>5.21</td>\n",
       "      <td>0.21</td>\n",
       "      <td>4.54</td>\n",
       "      <td>3.91</td>\n",
       "      <td>0.04</td>\n",
       "      <td>0.01</td>\n",
       "      <td>0.0</td>\n",
       "      <td>0.0</td>\n",
       "      <td>0.00</td>\n",
       "      <td>0.21</td>\n",
       "      <td>3.56</td>\n",
       "      <td>2.18</td>\n",
       "      <td>19.87</td>\n",
       "    </tr>\n",
       "    <tr>\n",
       "      <td>19</td>\n",
       "      <td>2019</td>\n",
       "      <td>5.13</td>\n",
       "      <td>7.94</td>\n",
       "      <td>4.31</td>\n",
       "      <td>0.43</td>\n",
       "      <td>1.94</td>\n",
       "      <td>0.00</td>\n",
       "      <td>0.0</td>\n",
       "      <td>0.0</td>\n",
       "      <td>0.12</td>\n",
       "      <td>0.01</td>\n",
       "      <td>1.46</td>\n",
       "      <td>5.40</td>\n",
       "      <td>26.74</td>\n",
       "    </tr>\n",
       "  </tbody>\n",
       "</table>\n",
       "</div>"
      ],
      "text/plain": [
       "    Year   Jan   Feb   Mar   Apr   May   Jun  Jul  Aug   Sep   Oct   Nov  \\\n",
       "18  2018  5.21  0.21  4.54  3.91  0.04  0.01  0.0  0.0  0.00  0.21  3.56   \n",
       "19  2019  5.13  7.94  4.31  0.43  1.94  0.00  0.0  0.0  0.12  0.01  1.46   \n",
       "\n",
       "     Dec  Annual  \n",
       "18  2.18   19.87  \n",
       "19  5.40   26.74  "
      ]
     },
     "execution_count": 9,
     "metadata": {},
     "output_type": "execute_result"
    }
   ],
   "source": [
    "sf.tail(2)"
   ]
  },
  {
   "cell_type": "code",
   "execution_count": 10,
   "metadata": {},
   "outputs": [
    {
     "name": "stdout",
     "output_type": "stream",
     "text": [
      "<class 'pandas.core.frame.DataFrame'>\n",
      "RangeIndex: 20 entries, 0 to 19\n",
      "Data columns (total 14 columns):\n",
      "Year      20 non-null int64\n",
      "Jan       20 non-null float64\n",
      "Feb       20 non-null float64\n",
      "Mar       20 non-null float64\n",
      "Apr       20 non-null float64\n",
      "May       20 non-null float64\n",
      "Jun       20 non-null float64\n",
      "Jul       20 non-null float64\n",
      "Aug       20 non-null float64\n",
      "Sep       20 non-null float64\n",
      "Oct       20 non-null float64\n",
      "Nov       20 non-null float64\n",
      "Dec       20 non-null float64\n",
      "Annual    20 non-null float64\n",
      "dtypes: float64(13), int64(1)\n",
      "memory usage: 2.3 KB\n"
     ]
    }
   ],
   "source": [
    "sf.info()"
   ]
  },
  {
   "cell_type": "markdown",
   "metadata": {},
   "source": [
    "Next we do the same for the dataframe of Sacramento: sac"
   ]
  },
  {
   "cell_type": "code",
   "execution_count": 11,
   "metadata": {},
   "outputs": [],
   "source": [
    "sac.iloc[:, 12:] = sac.iloc[:, 12:].apply(pd.to_numeric, errors = 'coerce')\n",
    "sac.iloc[19, 12] = round(sac.iloc[:-1, 12].mean(),2)\n",
    "sac.iloc[19, 13] = sac.iloc[19, 1:-1].sum()"
   ]
  },
  {
   "cell_type": "code",
   "execution_count": 12,
   "metadata": {},
   "outputs": [
    {
     "data": {
      "text/html": [
       "<div>\n",
       "<style scoped>\n",
       "    .dataframe tbody tr th:only-of-type {\n",
       "        vertical-align: middle;\n",
       "    }\n",
       "\n",
       "    .dataframe tbody tr th {\n",
       "        vertical-align: top;\n",
       "    }\n",
       "\n",
       "    .dataframe thead th {\n",
       "        text-align: right;\n",
       "    }\n",
       "</style>\n",
       "<table border=\"1\" class=\"dataframe\">\n",
       "  <thead>\n",
       "    <tr style=\"text-align: right;\">\n",
       "      <th></th>\n",
       "      <th>Year</th>\n",
       "      <th>Jan</th>\n",
       "      <th>Feb</th>\n",
       "      <th>Mar</th>\n",
       "      <th>Apr</th>\n",
       "      <th>May</th>\n",
       "      <th>Jun</th>\n",
       "      <th>Jul</th>\n",
       "      <th>Aug</th>\n",
       "      <th>Sep</th>\n",
       "      <th>Oct</th>\n",
       "      <th>Nov</th>\n",
       "      <th>Dec</th>\n",
       "      <th>Annual</th>\n",
       "    </tr>\n",
       "  </thead>\n",
       "  <tbody>\n",
       "    <tr>\n",
       "      <td>18</td>\n",
       "      <td>2018</td>\n",
       "      <td>5.07</td>\n",
       "      <td>0.66</td>\n",
       "      <td>5.37</td>\n",
       "      <td>2.45</td>\n",
       "      <td>0.42</td>\n",
       "      <td>0.0</td>\n",
       "      <td>0.0</td>\n",
       "      <td>0.0</td>\n",
       "      <td>0.00</td>\n",
       "      <td>0.04</td>\n",
       "      <td>2.36</td>\n",
       "      <td>2.65</td>\n",
       "      <td>19.02</td>\n",
       "    </tr>\n",
       "    <tr>\n",
       "      <td>19</td>\n",
       "      <td>2019</td>\n",
       "      <td>4.65</td>\n",
       "      <td>8.90</td>\n",
       "      <td>3.20</td>\n",
       "      <td>0.59</td>\n",
       "      <td>3.42</td>\n",
       "      <td>0.0</td>\n",
       "      <td>0.0</td>\n",
       "      <td>0.0</td>\n",
       "      <td>0.06</td>\n",
       "      <td>0.00</td>\n",
       "      <td>0.71</td>\n",
       "      <td>3.69</td>\n",
       "      <td>25.22</td>\n",
       "    </tr>\n",
       "  </tbody>\n",
       "</table>\n",
       "</div>"
      ],
      "text/plain": [
       "    Year   Jan   Feb   Mar   Apr   May  Jun  Jul  Aug   Sep   Oct   Nov   Dec  \\\n",
       "18  2018  5.07  0.66  5.37  2.45  0.42  0.0  0.0  0.0  0.00  0.04  2.36  2.65   \n",
       "19  2019  4.65  8.90  3.20  0.59  3.42  0.0  0.0  0.0  0.06  0.00  0.71  3.69   \n",
       "\n",
       "    Annual  \n",
       "18   19.02  \n",
       "19   25.22  "
      ]
     },
     "execution_count": 12,
     "metadata": {},
     "output_type": "execute_result"
    }
   ],
   "source": [
    "sac.tail(2)"
   ]
  },
  {
   "cell_type": "markdown",
   "metadata": {},
   "source": [
    "## Data processing comparison\n",
    "\n",
    "Next, we will do some manipulation of the data to show the difference between long and wide data.\n",
    "\n",
    "First, let's convert them to long data and concat (or merge) the two dataframes into one.\n"
   ]
  },
  {
   "cell_type": "code",
   "execution_count": 13,
   "metadata": {},
   "outputs": [],
   "source": [
    "months = list(sf.columns)[1:13]\n",
    "\n",
    "# use pd.melt to convert to long data. \n",
    "sf_long = pd.melt(sf, id_vars = ['Year', 'Annual'], value_vars = months)\n",
    "sf_long.rename(columns = {'variable': 'Month', 'value': 'Precipitation'}, inplace = True)\n",
    "\n",
    "# add one column 'City' to distinguish the two data sets.\n",
    "sf_long['City'] = 'SF'\n",
    "\n",
    "# do the same for Sacramento\n",
    "sac_long = pd.melt(sac, id_vars = ['Year', 'Annual'], value_vars = months)\n",
    "sac_long.rename(columns = {'variable': 'Month', 'value': 'Precipitation'}, inplace = True)\n",
    "sac_long['City'] = 'Sacramento'"
   ]
  },
  {
   "cell_type": "code",
   "execution_count": 14,
   "metadata": {},
   "outputs": [
    {
     "data": {
      "text/html": [
       "<div>\n",
       "<style scoped>\n",
       "    .dataframe tbody tr th:only-of-type {\n",
       "        vertical-align: middle;\n",
       "    }\n",
       "\n",
       "    .dataframe tbody tr th {\n",
       "        vertical-align: top;\n",
       "    }\n",
       "\n",
       "    .dataframe thead th {\n",
       "        text-align: right;\n",
       "    }\n",
       "</style>\n",
       "<table border=\"1\" class=\"dataframe\">\n",
       "  <thead>\n",
       "    <tr style=\"text-align: right;\">\n",
       "      <th></th>\n",
       "      <th>Year</th>\n",
       "      <th>Annual</th>\n",
       "      <th>Month</th>\n",
       "      <th>Precipitation</th>\n",
       "      <th>City</th>\n",
       "    </tr>\n",
       "  </thead>\n",
       "  <tbody>\n",
       "    <tr>\n",
       "      <td>0</td>\n",
       "      <td>2000</td>\n",
       "      <td>25.01</td>\n",
       "      <td>Jan</td>\n",
       "      <td>6.41</td>\n",
       "      <td>SF</td>\n",
       "    </tr>\n",
       "    <tr>\n",
       "      <td>1</td>\n",
       "      <td>2001</td>\n",
       "      <td>31.79</td>\n",
       "      <td>Jan</td>\n",
       "      <td>3.76</td>\n",
       "      <td>SF</td>\n",
       "    </tr>\n",
       "    <tr>\n",
       "      <td>2</td>\n",
       "      <td>2002</td>\n",
       "      <td>22.46</td>\n",
       "      <td>Jan</td>\n",
       "      <td>2.13</td>\n",
       "      <td>SF</td>\n",
       "    </tr>\n",
       "    <tr>\n",
       "      <td>3</td>\n",
       "      <td>2003</td>\n",
       "      <td>19.80</td>\n",
       "      <td>Jan</td>\n",
       "      <td>1.75</td>\n",
       "      <td>SF</td>\n",
       "    </tr>\n",
       "    <tr>\n",
       "      <td>4</td>\n",
       "      <td>2004</td>\n",
       "      <td>23.23</td>\n",
       "      <td>Jan</td>\n",
       "      <td>3.40</td>\n",
       "      <td>SF</td>\n",
       "    </tr>\n",
       "    <tr>\n",
       "      <td>...</td>\n",
       "      <td>...</td>\n",
       "      <td>...</td>\n",
       "      <td>...</td>\n",
       "      <td>...</td>\n",
       "      <td>...</td>\n",
       "    </tr>\n",
       "    <tr>\n",
       "      <td>235</td>\n",
       "      <td>2015</td>\n",
       "      <td>8.15</td>\n",
       "      <td>Dec</td>\n",
       "      <td>1.83</td>\n",
       "      <td>Sacramento</td>\n",
       "    </tr>\n",
       "    <tr>\n",
       "      <td>236</td>\n",
       "      <td>2016</td>\n",
       "      <td>22.86</td>\n",
       "      <td>Dec</td>\n",
       "      <td>3.77</td>\n",
       "      <td>Sacramento</td>\n",
       "    </tr>\n",
       "    <tr>\n",
       "      <td>237</td>\n",
       "      <td>2017</td>\n",
       "      <td>27.15</td>\n",
       "      <td>Dec</td>\n",
       "      <td>0.13</td>\n",
       "      <td>Sacramento</td>\n",
       "    </tr>\n",
       "    <tr>\n",
       "      <td>238</td>\n",
       "      <td>2018</td>\n",
       "      <td>19.02</td>\n",
       "      <td>Dec</td>\n",
       "      <td>2.65</td>\n",
       "      <td>Sacramento</td>\n",
       "    </tr>\n",
       "    <tr>\n",
       "      <td>239</td>\n",
       "      <td>2019</td>\n",
       "      <td>25.22</td>\n",
       "      <td>Dec</td>\n",
       "      <td>3.69</td>\n",
       "      <td>Sacramento</td>\n",
       "    </tr>\n",
       "  </tbody>\n",
       "</table>\n",
       "<p>480 rows × 5 columns</p>\n",
       "</div>"
      ],
      "text/plain": [
       "     Year  Annual Month  Precipitation        City\n",
       "0    2000   25.01   Jan           6.41          SF\n",
       "1    2001   31.79   Jan           3.76          SF\n",
       "2    2002   22.46   Jan           2.13          SF\n",
       "3    2003   19.80   Jan           1.75          SF\n",
       "4    2004   23.23   Jan           3.40          SF\n",
       "..    ...     ...   ...            ...         ...\n",
       "235  2015    8.15   Dec           1.83  Sacramento\n",
       "236  2016   22.86   Dec           3.77  Sacramento\n",
       "237  2017   27.15   Dec           0.13  Sacramento\n",
       "238  2018   19.02   Dec           2.65  Sacramento\n",
       "239  2019   25.22   Dec           3.69  Sacramento\n",
       "\n",
       "[480 rows x 5 columns]"
      ]
     },
     "execution_count": 14,
     "metadata": {},
     "output_type": "execute_result"
    }
   ],
   "source": [
    "# combine the two data sets\n",
    "combine_long = pd.concat([sf_long, sac_long], sort = False)\n",
    "combine_long"
   ]
  },
  {
   "cell_type": "markdown",
   "metadata": {},
   "source": [
    "Now say we want to calculate the monthly percentage of rainfall of each year. \n",
    "\n",
    "We can start with the wide data. Since we need to do the operation on each column, we can use the `apply` function."
   ]
  },
  {
   "cell_type": "code",
   "execution_count": 15,
   "metadata": {},
   "outputs": [
    {
     "data": {
      "text/html": [
       "<div>\n",
       "<style scoped>\n",
       "    .dataframe tbody tr th:only-of-type {\n",
       "        vertical-align: middle;\n",
       "    }\n",
       "\n",
       "    .dataframe tbody tr th {\n",
       "        vertical-align: top;\n",
       "    }\n",
       "\n",
       "    .dataframe thead th {\n",
       "        text-align: right;\n",
       "    }\n",
       "</style>\n",
       "<table border=\"1\" class=\"dataframe\">\n",
       "  <thead>\n",
       "    <tr style=\"text-align: right;\">\n",
       "      <th></th>\n",
       "      <th>Jan</th>\n",
       "      <th>Feb</th>\n",
       "      <th>Mar</th>\n",
       "      <th>Apr</th>\n",
       "      <th>May</th>\n",
       "      <th>Jun</th>\n",
       "      <th>Jul</th>\n",
       "      <th>Aug</th>\n",
       "      <th>Sep</th>\n",
       "      <th>Oct</th>\n",
       "      <th>Nov</th>\n",
       "      <th>Dec</th>\n",
       "    </tr>\n",
       "  </thead>\n",
       "  <tbody>\n",
       "    <tr>\n",
       "      <td>0</td>\n",
       "      <td>25.6</td>\n",
       "      <td>35.8</td>\n",
       "      <td>8.2</td>\n",
       "      <td>6.6</td>\n",
       "      <td>5.6</td>\n",
       "      <td>0.6</td>\n",
       "      <td>0.1</td>\n",
       "      <td>0.1</td>\n",
       "      <td>0.8</td>\n",
       "      <td>9.5</td>\n",
       "      <td>3.4</td>\n",
       "      <td>3.6</td>\n",
       "    </tr>\n",
       "    <tr>\n",
       "      <td>1</td>\n",
       "      <td>11.8</td>\n",
       "      <td>24.3</td>\n",
       "      <td>5.0</td>\n",
       "      <td>5.9</td>\n",
       "      <td>0.0</td>\n",
       "      <td>0.5</td>\n",
       "      <td>0.0</td>\n",
       "      <td>0.2</td>\n",
       "      <td>0.6</td>\n",
       "      <td>1.6</td>\n",
       "      <td>16.3</td>\n",
       "      <td>33.8</td>\n",
       "    </tr>\n",
       "    <tr>\n",
       "      <td>2</td>\n",
       "      <td>9.5</td>\n",
       "      <td>11.5</td>\n",
       "      <td>10.1</td>\n",
       "      <td>2.3</td>\n",
       "      <td>3.7</td>\n",
       "      <td>0.1</td>\n",
       "      <td>0.0</td>\n",
       "      <td>0.1</td>\n",
       "      <td>0.0</td>\n",
       "      <td>0.0</td>\n",
       "      <td>8.9</td>\n",
       "      <td>53.6</td>\n",
       "    </tr>\n",
       "    <tr>\n",
       "      <td>3</td>\n",
       "      <td>8.8</td>\n",
       "      <td>9.1</td>\n",
       "      <td>8.6</td>\n",
       "      <td>18.2</td>\n",
       "      <td>4.7</td>\n",
       "      <td>0.0</td>\n",
       "      <td>0.0</td>\n",
       "      <td>0.3</td>\n",
       "      <td>0.0</td>\n",
       "      <td>0.2</td>\n",
       "      <td>11.2</td>\n",
       "      <td>38.8</td>\n",
       "    </tr>\n",
       "    <tr>\n",
       "      <td>4</td>\n",
       "      <td>14.6</td>\n",
       "      <td>24.4</td>\n",
       "      <td>5.0</td>\n",
       "      <td>0.5</td>\n",
       "      <td>0.5</td>\n",
       "      <td>0.0</td>\n",
       "      <td>0.0</td>\n",
       "      <td>0.2</td>\n",
       "      <td>0.2</td>\n",
       "      <td>11.3</td>\n",
       "      <td>8.9</td>\n",
       "      <td>34.4</td>\n",
       "    </tr>\n",
       "  </tbody>\n",
       "</table>\n",
       "</div>"
      ],
      "text/plain": [
       "    Jan   Feb   Mar   Apr  May  Jun  Jul  Aug  Sep   Oct   Nov   Dec\n",
       "0  25.6  35.8   8.2   6.6  5.6  0.6  0.1  0.1  0.8   9.5   3.4   3.6\n",
       "1  11.8  24.3   5.0   5.9  0.0  0.5  0.0  0.2  0.6   1.6  16.3  33.8\n",
       "2   9.5  11.5  10.1   2.3  3.7  0.1  0.0  0.1  0.0   0.0   8.9  53.6\n",
       "3   8.8   9.1   8.6  18.2  4.7  0.0  0.0  0.3  0.0   0.2  11.2  38.8\n",
       "4  14.6  24.4   5.0   0.5  0.5  0.0  0.0  0.2  0.2  11.3   8.9  34.4"
      ]
     },
     "execution_count": 15,
     "metadata": {},
     "output_type": "execute_result"
    }
   ],
   "source": [
    "def percentages(col, col_annual):\n",
    "    div = col/col_annual\n",
    "    return round(div*100,1)\n",
    "\n",
    "monthly_perc = sf[months].apply(percentages, col_annual = sf['Annual'])\n",
    "monthly_perc.head()"
   ]
  },
  {
   "cell_type": "code",
   "execution_count": 16,
   "metadata": {},
   "outputs": [
    {
     "data": {
      "text/html": [
       "<div>\n",
       "<style scoped>\n",
       "    .dataframe tbody tr th:only-of-type {\n",
       "        vertical-align: middle;\n",
       "    }\n",
       "\n",
       "    .dataframe tbody tr th {\n",
       "        vertical-align: top;\n",
       "    }\n",
       "\n",
       "    .dataframe thead th {\n",
       "        text-align: right;\n",
       "    }\n",
       "</style>\n",
       "<table border=\"1\" class=\"dataframe\">\n",
       "  <thead>\n",
       "    <tr style=\"text-align: right;\">\n",
       "      <th></th>\n",
       "      <th>Year</th>\n",
       "      <th>Annual</th>\n",
       "      <th>Month</th>\n",
       "      <th>Precipitation</th>\n",
       "      <th>City</th>\n",
       "      <th>Percentages</th>\n",
       "    </tr>\n",
       "  </thead>\n",
       "  <tbody>\n",
       "    <tr>\n",
       "      <td>0</td>\n",
       "      <td>2000</td>\n",
       "      <td>25.01</td>\n",
       "      <td>Jan</td>\n",
       "      <td>6.41</td>\n",
       "      <td>SF</td>\n",
       "      <td>25.6</td>\n",
       "    </tr>\n",
       "    <tr>\n",
       "      <td>1</td>\n",
       "      <td>2001</td>\n",
       "      <td>31.79</td>\n",
       "      <td>Jan</td>\n",
       "      <td>3.76</td>\n",
       "      <td>SF</td>\n",
       "      <td>11.8</td>\n",
       "    </tr>\n",
       "    <tr>\n",
       "      <td>2</td>\n",
       "      <td>2002</td>\n",
       "      <td>22.46</td>\n",
       "      <td>Jan</td>\n",
       "      <td>2.13</td>\n",
       "      <td>SF</td>\n",
       "      <td>9.5</td>\n",
       "    </tr>\n",
       "    <tr>\n",
       "      <td>3</td>\n",
       "      <td>2003</td>\n",
       "      <td>19.80</td>\n",
       "      <td>Jan</td>\n",
       "      <td>1.75</td>\n",
       "      <td>SF</td>\n",
       "      <td>8.8</td>\n",
       "    </tr>\n",
       "    <tr>\n",
       "      <td>4</td>\n",
       "      <td>2004</td>\n",
       "      <td>23.23</td>\n",
       "      <td>Jan</td>\n",
       "      <td>3.40</td>\n",
       "      <td>SF</td>\n",
       "      <td>14.6</td>\n",
       "    </tr>\n",
       "  </tbody>\n",
       "</table>\n",
       "</div>"
      ],
      "text/plain": [
       "   Year  Annual Month  Precipitation City  Percentages\n",
       "0  2000   25.01   Jan           6.41   SF         25.6\n",
       "1  2001   31.79   Jan           3.76   SF         11.8\n",
       "2  2002   22.46   Jan           2.13   SF          9.5\n",
       "3  2003   19.80   Jan           1.75   SF          8.8\n",
       "4  2004   23.23   Jan           3.40   SF         14.6"
      ]
     },
     "execution_count": 16,
     "metadata": {},
     "output_type": "execute_result"
    }
   ],
   "source": [
    "combine_long['Percentages'] = round(combine_long['Precipitation']/combine_long['Annual']*100, 1)\n",
    "combine_long.head()"
   ]
  },
  {
   "cell_type": "markdown",
   "metadata": {},
   "source": [
    "Since the long data uses vectorized operation other than a for loop (wide data), it will be much more efficient for larger data sets."
   ]
  },
  {
   "cell_type": "markdown",
   "metadata": {},
   "source": [
    "## Plot using wide and long data\n",
    "Next we will plot the boxplot for each month in the last twenty years first using the wide data."
   ]
  },
  {
   "cell_type": "code",
   "execution_count": 17,
   "metadata": {},
   "outputs": [
    {
     "data": {
      "image/png": "[encoded data removed]",
      "text/plain": [
       "<Figure size 720x360 with 1 Axes>"
      ]
     },
     "metadata": {
      "needs_background": "light"
     },
     "output_type": "display_data"
    }
   ],
   "source": [
    "plt.figure(figsize = (10, 5))\n",
    "sf_box = sf[months].boxplot(widths = 0.3, grid = False)\n",
    "plt.xlabel('Month')\n",
    "plt.ylabel('Precipitation (inch)')\n",
    "plt.title('Monthly Rainfall of San Francisco (2000 - 2019)')\n",
    "plt.show()"
   ]
  },
  {
   "cell_type": "markdown",
   "metadata": {},
   "source": [
    "You can see it is quite easy to make the plot. What if we want to plot the data of Sacramento side by side. This becomes a fairly complex task for wide data. As you can see in the below, we have to plot the two dataframes separately, specify the width and position of each dataframe (otherwise they will overlap), and place the xticks at the center of two boxes. There is some tweeking involved to make it look right."
   ]
  },
  {
   "cell_type": "code",
   "execution_count": 18,
   "metadata": {},
   "outputs": [
    {
     "data": {
      "image/png": "[encoded data removed]",
      "text/plain": [
       "<Figure size 720x360 with 1 Axes>"
      ]
     },
     "metadata": {
      "needs_background": "light"
     },
     "output_type": "display_data"
    }
   ],
   "source": [
    "plt.figure(figsize = (10, 5))\n",
    "sf_box = sf[months].boxplot(widths = 0.25, positions=np.arange(12), grid = False)\n",
    "sac_box = sac[months].boxplot(widths = 0.25, positions=np.arange(0.3,12.3,1.0), grid = False)\n",
    "plt.xlabel('Month')\n",
    "plt.ylabel('Precipitation (inch)')\n",
    "plt.title('Monthly Rainfall (2000 - 2019)')\n",
    "plt.xticks(np.arange(0.15, 12.15, 1), months)\n",
    "\n",
    "plt.show()"
   ]
  },
  {
   "cell_type": "markdown",
   "metadata": {},
   "source": [
    "Now let's try to achieve the same using long farmat."
   ]
  },
  {
   "cell_type": "code",
   "execution_count": 19,
   "metadata": {
    "scrolled": true
   },
   "outputs": [
    {
     "data": {
      "image/png": "[encoded data removed]",
      "text/plain": [
       "<Figure size 720x360 with 1 Axes>"
      ]
     },
     "metadata": {
      "needs_background": "light"
     },
     "output_type": "display_data"
    }
   ],
   "source": [
    "plt.figure(figsize = (10, 5))\n",
    "sf_box_long = sns.boxplot(y = 'Precipitation', x = 'Month', hue = 'City', data = combine_long)\n",
    "plt.xlabel('Month')\n",
    "plt.ylabel('Precipitation (inch)')\n",
    "plt.title('Monthly Rainfall (2000 - 2019)')\n",
    "plt.show()"
   ]
  },
  {
   "cell_type": "markdown",
   "metadata": {},
   "source": [
    "In this case, it's much easier to do the side-by-side comparison using long data and Seaborn. In `R`, `ggplot` also uses long format and the underline syntax is very similar to Seaborn.\n"
   ]
  },
  {
   "cell_type": "markdown",
   "metadata": {},
   "source": [
    "## Thoughts\n",
    "Coming from `R` and having extensively used `MATLAB` in my college, I liked `ggplot` a lot compared to `matplotlib` (which is similar to MATLAB). One reason is that I can easily make use of different variables to customized the plots. In above example, I used `hue` (color) to show a categorical variable. I can also include continuous variables in the visualization, for example: size of the symbol etc."
   ]
  }
 ],
 "metadata": {
  "kernelspec": {
   "display_name": "Python 3",
   "language": "python",
   "name": "python3"
  },
  "language_info": {
   "codemirror_mode": {
    "name": "ipython",
    "version": 3
   },
   "file_extension": ".py",
   "mimetype": "text/x-python",
   "name": "python",
   "nbconvert_exporter": "python",
   "pygments_lexer": "ipython3",
   "version": "3.7.7"
  }
 },
 "nbformat": 4,
 "nbformat_minor": 2
}
