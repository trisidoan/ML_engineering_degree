{
 "cells": [
  {
   "cell_type": "markdown",
   "metadata": {},
   "source": [
    "Find and print all subsets of a given set! (Given as an array.)   \n",
    "eg: [1,3]\n",
    "    {}, {1,3},(1),(3)\n"
   ]
  },
  {
   "cell_type": "code",
   "execution_count": null,
   "metadata": {},
   "outputs": [],
   "source": [
    "def all_subsets(given_array):\n",
    "    subset = new int[given_array.length]\n",
    "    helper(given_array, subset,0)\n",
    "def helper(given_array,subset, i):\n",
    "    if i == given_array.length:\n",
    "        print_set(subset)\n",
    "    else:\n",
    "        subset[i] = null\n",
    "        helper(given_array, subset, i+1)"
   ]
  }
 ],
 "metadata": {
  "kernelspec": {
   "display_name": "Python 3",
   "language": "python",
   "name": "python3"
  },
  "language_info": {
   "codemirror_mode": {
    "name": "ipython",
    "version": 3
   },
   "file_extension": ".py",
   "mimetype": "text/x-python",
   "name": "python",
   "nbconvert_exporter": "python",
   "pygments_lexer": "ipython3",
   "version": "3.7.7"
  }
 },
 "nbformat": 4,
 "nbformat_minor": 4
}
