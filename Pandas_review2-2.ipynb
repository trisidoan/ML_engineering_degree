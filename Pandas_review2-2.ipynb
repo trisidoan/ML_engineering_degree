{
 "cells": [
  {
   "cell_type": "markdown",
   "metadata": {},
   "source": [
    "In this tutorial, we review on pivot talb"
   ]
  },
  {
   "cell_type": "code",
   "execution_count": 2,
   "metadata": {},
   "outputs": [],
   "source": [
    "import pandas as pd\n",
    "import numpy as np\n"
   ]
  },
  {
   "cell_type": "code",
   "execution_count": 3,
   "metadata": {},
   "outputs": [
    {
     "data": {
      "text/html": [
       "<div>\n",
       "<style scoped>\n",
       "    .dataframe tbody tr th:only-of-type {\n",
       "        vertical-align: middle;\n",
       "    }\n",
       "\n",
       "    .dataframe tbody tr th {\n",
       "        vertical-align: top;\n",
       "    }\n",
       "\n",
       "    .dataframe thead th {\n",
       "        text-align: right;\n",
       "    }\n",
       "</style>\n",
       "<table border=\"1\" class=\"dataframe\">\n",
       "  <thead>\n",
       "    <tr style=\"text-align: right;\">\n",
       "      <th>Name</th>\n",
       "      <th>BNSF</th>\n",
       "      <th>CN</th>\n",
       "      <th>CP</th>\n",
       "      <th>CSX</th>\n",
       "      <th>KCS</th>\n",
       "      <th>NSF</th>\n",
       "      <th>UP</th>\n",
       "    </tr>\n",
       "    <tr>\n",
       "      <th>Year</th>\n",
       "      <th></th>\n",
       "      <th></th>\n",
       "      <th></th>\n",
       "      <th></th>\n",
       "      <th></th>\n",
       "      <th></th>\n",
       "      <th></th>\n",
       "    </tr>\n",
       "  </thead>\n",
       "  <tbody>\n",
       "    <tr>\n",
       "      <th>2007</th>\n",
       "      <td>NaN</td>\n",
       "      <td>NaN</td>\n",
       "      <td>NaN</td>\n",
       "      <td>NaN</td>\n",
       "      <td>NaN</td>\n",
       "      <td>NaN</td>\n",
       "      <td>-1.785934</td>\n",
       "    </tr>\n",
       "    <tr>\n",
       "      <th>2008</th>\n",
       "      <td>1.605111</td>\n",
       "      <td>NaN</td>\n",
       "      <td>NaN</td>\n",
       "      <td>NaN</td>\n",
       "      <td>NaN</td>\n",
       "      <td>NaN</td>\n",
       "      <td>NaN</td>\n",
       "    </tr>\n",
       "    <tr>\n",
       "      <th>2009</th>\n",
       "      <td>NaN</td>\n",
       "      <td>NaN</td>\n",
       "      <td>NaN</td>\n",
       "      <td>1.800014</td>\n",
       "      <td>NaN</td>\n",
       "      <td>NaN</td>\n",
       "      <td>NaN</td>\n",
       "    </tr>\n",
       "    <tr>\n",
       "      <th>2010</th>\n",
       "      <td>NaN</td>\n",
       "      <td>NaN</td>\n",
       "      <td>NaN</td>\n",
       "      <td>NaN</td>\n",
       "      <td>-2.577264</td>\n",
       "      <td>NaN</td>\n",
       "      <td>NaN</td>\n",
       "    </tr>\n",
       "    <tr>\n",
       "      <th>2011</th>\n",
       "      <td>NaN</td>\n",
       "      <td>NaN</td>\n",
       "      <td>NaN</td>\n",
       "      <td>NaN</td>\n",
       "      <td>NaN</td>\n",
       "      <td>0.899372</td>\n",
       "      <td>NaN</td>\n",
       "    </tr>\n",
       "    <tr>\n",
       "      <th>2012</th>\n",
       "      <td>NaN</td>\n",
       "      <td>-3.988874</td>\n",
       "      <td>NaN</td>\n",
       "      <td>NaN</td>\n",
       "      <td>NaN</td>\n",
       "      <td>NaN</td>\n",
       "      <td>NaN</td>\n",
       "    </tr>\n",
       "    <tr>\n",
       "      <th>2013</th>\n",
       "      <td>NaN</td>\n",
       "      <td>NaN</td>\n",
       "      <td>1.725111</td>\n",
       "      <td>NaN</td>\n",
       "      <td>NaN</td>\n",
       "      <td>NaN</td>\n",
       "      <td>NaN</td>\n",
       "    </tr>\n",
       "  </tbody>\n",
       "</table>\n",
       "</div>"
      ],
      "text/plain": [
       "Name      BNSF        CN        CP       CSX       KCS       NSF        UP\n",
       "Year                                                                      \n",
       "2007       NaN       NaN       NaN       NaN       NaN       NaN -1.785934\n",
       "2008  1.605111       NaN       NaN       NaN       NaN       NaN       NaN\n",
       "2009       NaN       NaN       NaN  1.800014       NaN       NaN       NaN\n",
       "2010       NaN       NaN       NaN       NaN -2.577264       NaN       NaN\n",
       "2011       NaN       NaN       NaN       NaN       NaN  0.899372       NaN\n",
       "2012       NaN -3.988874       NaN       NaN       NaN       NaN       NaN\n",
       "2013       NaN       NaN  1.725111       NaN       NaN       NaN       NaN"
      ]
     },
     "execution_count": 3,
     "metadata": {},
     "output_type": "execute_result"
    }
   ],
   "source": [
    "np.random.seed(44)\n",
    "# RANDOM DATA WITH US CLASS I RAILROADS\n",
    "df = pd.DataFrame({'Name': ['UP', 'BNSF', 'CSX', 'KCS','NSF', 'CN', 'CP']*5,\n",
    "                   'Other_Sales': np.random.randn(35),\n",
    "                   'Year': list(range(2007,2014))*5})    \n",
    "\n",
    "table = df.pivot_table('Other_Sales', columns='Name',\n",
    "                       index='Year', aggfunc='sum')\n",
    "table"
   ]
  },
  {
   "cell_type": "code",
   "execution_count": 4,
   "metadata": {},
   "outputs": [
    {
     "data": {
      "text/html": [
       "<div>\n",
       "<style scoped>\n",
       "    .dataframe tbody tr th:only-of-type {\n",
       "        vertical-align: middle;\n",
       "    }\n",
       "\n",
       "    .dataframe tbody tr th {\n",
       "        vertical-align: top;\n",
       "    }\n",
       "\n",
       "    .dataframe thead th {\n",
       "        text-align: right;\n",
       "    }\n",
       "</style>\n",
       "<table border=\"1\" class=\"dataframe\">\n",
       "  <thead>\n",
       "    <tr style=\"text-align: right;\">\n",
       "      <th></th>\n",
       "      <th>Year</th>\n",
       "      <th>0</th>\n",
       "    </tr>\n",
       "  </thead>\n",
       "  <tbody>\n",
       "    <tr>\n",
       "      <th>0</th>\n",
       "      <td>2007</td>\n",
       "      <td>-1.785934</td>\n",
       "    </tr>\n",
       "    <tr>\n",
       "      <th>1</th>\n",
       "      <td>2008</td>\n",
       "      <td>1.605111</td>\n",
       "    </tr>\n",
       "    <tr>\n",
       "      <th>2</th>\n",
       "      <td>2009</td>\n",
       "      <td>1.800014</td>\n",
       "    </tr>\n",
       "    <tr>\n",
       "      <th>3</th>\n",
       "      <td>2010</td>\n",
       "      <td>-2.577264</td>\n",
       "    </tr>\n",
       "    <tr>\n",
       "      <th>4</th>\n",
       "      <td>2011</td>\n",
       "      <td>0.899372</td>\n",
       "    </tr>\n",
       "    <tr>\n",
       "      <th>5</th>\n",
       "      <td>2012</td>\n",
       "      <td>-3.988874</td>\n",
       "    </tr>\n",
       "    <tr>\n",
       "      <th>6</th>\n",
       "      <td>2013</td>\n",
       "      <td>1.725111</td>\n",
       "    </tr>\n",
       "  </tbody>\n",
       "</table>\n",
       "</div>"
      ],
      "text/plain": [
       "   Year         0\n",
       "0  2007 -1.785934\n",
       "1  2008  1.605111\n",
       "2  2009  1.800014\n",
       "3  2010 -2.577264\n",
       "4  2011  0.899372\n",
       "5  2012 -3.988874\n",
       "6  2013  1.725111"
      ]
     },
     "execution_count": 4,
     "metadata": {},
     "output_type": "execute_result"
    }
   ],
   "source": [
    "table = df.pivot_table('Other_Sales', columns='Name',\n",
    "                       index='Year', aggfunc='sum').sum(axis=1).reset_index()\n",
    "table"
   ]
  },
  {
   "cell_type": "markdown",
   "metadata": {},
   "source": [
    "## Max Array Sum   \n",
    "\n",
    "Given an array of integers, find the subset of non-adjacent elements with the maximum sum. Calculate the sum of that subset.\n",
    "For example, given an array [-2,1,3,-4,5] we have the following possible subsets:"
   ]
  },
  {
   "cell_type": "raw",
   "metadata": {},
   "source": [
    "Subset      Sum\n",
    "[-2, 3, 5]   6\n",
    "[-2, 3]      1\n",
    "[-2, -4]    -6\n",
    "[-2, 5]      3\n",
    "[1, -4]     -3\n",
    "[1, 5]       6\n",
    "[3, 5]       8\n",
    "\n",
    "Our maximum subset sum is 8\n",
    "Function Description\n",
    "Complete the maxSubsetSum function in the editor below. It should return an integer representing the maximum subset sum for the given array.\n",
    "maxSubsetSum has the following parameter(s):\n",
    "arr: an array of integers"
   ]
  },
  {
   "cell_type": "raw",
   "metadata": {},
   "source": [
    "Sample Input 0\n",
    "5\n",
    "3 7 4 6 5\n",
    "\n",
    "Explanation \n",
    "Our possible subsets are [3,4,5],[3,4],[3,6],[3,5],[7,6],[7,5] and [4,5]. The largest subset sum is 13 from subset [7,6]. "
   ]
  },
  {
   "cell_type": "code",
   "execution_count": 4,
   "metadata": {},
   "outputs": [
    {
     "data": {
      "text/plain": [
       "13"
      ]
     },
     "execution_count": 4,
     "metadata": {},
     "output_type": "execute_result"
    }
   ],
   "source": [
    "def max_subarray(arr, i, d):\n",
    "    if i in d:\n",
    "        return d[i]\n",
    "\n",
    "    if i == len(arr) - 1:\n",
    "        d[i] = arr[i]    \n",
    "    elif i == len(arr) - 2:\n",
    "        d[i] = max(arr[i], arr[i + 1])\n",
    "    else:\n",
    "        d[i] = max(arr[i], max(arr[i] + max_subarray(arr, i + 2, d), max_subarray(arr, i + 1, d)))\n",
    "\n",
    "    return d[i]\n",
    "\n",
    "def maxSubsetSum(arr):\n",
    "    if arr is None or len(arr) == 0:\n",
    "        return 0\n",
    "\n",
    "    return max_subarray(arr, 0, {})\n",
    "arr= [3, 7 ,4 ,6 ,5]\n",
    "maxSubsetSum(arr)"
   ]
  },
  {
   "cell_type": "markdown",
   "metadata": {},
   "source": [
    "**Problem 2**"
   ]
  },
  {
   "cell_type": "markdown",
   "metadata": {},
   "source": [
    "Given a stack of N elements, interleave the first half of the stack with the second half reversed using only one other queue. This should be done in-place.\n",
    "\n",
    "Recall that you can only push or pop from a stack, and enqueue or dequeue from a queue.\n",
    "\n",
    "For example, if the stack is [1, 2, 3, 4, 5], it should become [1, 5, 2, 4, 3]. If the stack is [1, 2, 3, 4], it should become [1, 4, 2, 3]."
   ]
  },
  {
   "cell_type": "code",
   "execution_count": null,
   "metadata": {},
   "outputs": [],
   "source": []
  }
 ],
 "metadata": {
  "kernelspec": {
   "display_name": "Python 3",
   "language": "python",
   "name": "python3"
  },
  "language_info": {
   "codemirror_mode": {
    "name": "ipython",
    "version": 3
   },
   "file_extension": ".py",
   "mimetype": "text/x-python",
   "name": "python",
   "nbconvert_exporter": "python",
   "pygments_lexer": "ipython3",
   "version": "3.7.7"
  }
 },
 "nbformat": 4,
 "nbformat_minor": 4
}
