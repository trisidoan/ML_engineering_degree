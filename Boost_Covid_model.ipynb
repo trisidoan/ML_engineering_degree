{
 "cells": [
  {
   "cell_type": "markdown",
   "metadata": {},
   "source": [
    "### Boost Model Accuracy of Imbalanced COVID-19 Mortality Prediction Using GAN-based Oversampling Technique.   \n",
    "\n",
    "The data and the core model for this article are considered from the recent study (July 2020) on “COVID-19 Patient Health Prediction Using Boosted Random Forest Algorithm” by Celestine Iwendi, Ali Kashif Bashir, Atharva Peshkar. et al. This study used the Random Forest algorithm boosted by the AdaBoost model and predicted the mortality of individual patients with 94% accuracy. In this article, the same model and model parameters were considered to clearly analyze the improvement of existing model accuracies by using GAN- based Oversampling Technique."
   ]
  },
  {
   "cell_type": "markdown",
   "metadata": {},
   "source": [
    "The data used in studies were trained using 222 patient records with 13 features. The data is biased as 159(72%) cases belong to the class `0′ or ‘recovered’. Due to its skewed nature, various undersampling/oversampling techniques can be applied to the data. The problem of skewness data could lead to overfitting of the prediction model. To overcome this limitation many studies have implemented the use of oversampling methods to provide a balance to the dataset, leading to more accurate model training. Oversampling is a technique for compensating the imbalance of a dataset, by increasing the number of samples within the minority data. Conventional methods include Random Oversampling (ROS), Synthetic Minority Oversampling Technique (SMOTE) and others can be applied. [Credit](https://www.analyticsvidhya.com/blog/2020/10/lets-improve-the-model-accuracy-of-imbalanced-covid-19-mortality-prediction-using-generative-adversarial-networks-gan-based-oversampling-technique/?utm_source=feedburner&utm_medium=email&utm_campaign=Feed%3A+AnalyticsVidhya+%28Analytics+Vidhya%29)"
   ]
  },
  {
   "cell_type": "markdown",
   "metadata": {},
   "source": [
    "Recently, a machine learning model for developing a generative network based on an adversarial learning concept, namely the Generative Adversarial Networks (GAN), has been proposed. The characteristic of Generative Adversarial Networks (GAN) makes it easily applicable to oversampling studies since the nature of the neural network developed based on adversarial training allows artificial data to be made that is similar to the original data. Oversampling based on Generative Adversarial Networks (GAN) overcomes the limitations of conventional methods, such as overfitting, and allows the development of a highly accurate prediction model of imbalanced data."
   ]
  },
  {
   "cell_type": "markdown",
   "metadata": {},
   "source": [
    "**How GAN generate synthetic data?**\n",
    "\n",
    "Two neural networks compete against each other to learn the target distribution and generate artificial data\n",
    "\n",
    "A generator network G: mimic training samples to fool the discriminator\n",
    "\n",
    "A discriminator network D: discriminate training samples and generated samples\n",
    "\n"
   ]
  },
  {
   "cell_type": "markdown",
   "metadata": {},
   "source": [
    "Generative adversarial networks are based on a game-theoretic scenario in which the generator network must compete against an adversary.  As GAN learns to mimic the distribution of data, "
   ]
  },
  {
   "cell_type": "code",
   "execution_count": 1,
   "metadata": {},
   "outputs": [
    {
     "name": "stderr",
     "output_type": "stream",
     "text": [
      "Using TensorFlow backend.\n"
     ]
    }
   ],
   "source": [
    "import pandas as pd  \n",
    "import numpy as np  \n",
    "import matplotlib.pyplot as plt  \n",
    "import seaborn as sns  \n",
    "import tensorflow as tf  \n",
    "from keras.layers import Input, Dense, Reshape, Flatten, Dropout, BatchNormalization, Embedding  \n",
    "from keras.layers.advanced_activations import LeakyReLU  \n",
    "from keras.layers.merge import concatenate  \n",
    "from keras.models import Sequential, Model  \n",
    "from keras.optimizers import Adam  \n",
    "from keras.utils import to_categorical  \n",
    "from keras.layers.advanced_activations import LeakyReLU  \n",
    "from keras.utils.vis_utils import plot_model  \n",
    "from sklearn.preprocessing import MinMaxScaler, OneHotEncoder, LabelEncoder  "
   ]
  },
  {
   "cell_type": "code",
   "execution_count": 2,
   "metadata": {},
   "outputs": [],
   "source": [
    "import scipy.stats  \n",
    "import datetime as dt  \n",
    "import pydot  \n",
    "import warnings  \n",
    "warnings.filterwarnings(\"ignore\")  \n",
    "%matplotlib inline  \n"
   ]
  },
  {
   "cell_type": "code",
   "execution_count": 5,
   "metadata": {},
   "outputs": [
    {
     "data": {
      "text/plain": [
       "'/Users/tridoan'"
      ]
     },
     "execution_count": 5,
     "metadata": {},
     "output_type": "execute_result"
    }
   ],
   "source": [
    "import os\n",
    "os.getcwd()"
   ]
  },
  {
   "cell_type": "code",
   "execution_count": 7,
   "metadata": {},
   "outputs": [],
   "source": [
    "df = pd.read_csv('./Downloads/data/Covid_data.csv')  \n",
    "df = df.drop('id',axis=1)  \n",
    "df = df.fillna(np.nan,axis=0)  \n",
    "df['age'] = df['age'].fillna(value=df['age'].mean())  "
   ]
  },
  {
   "cell_type": "code",
   "execution_count": 8,
   "metadata": {},
   "outputs": [
    {
     "data": {
      "text/html": [
       "<div>\n",
       "<style scoped>\n",
       "    .dataframe tbody tr th:only-of-type {\n",
       "        vertical-align: middle;\n",
       "    }\n",
       "\n",
       "    .dataframe tbody tr th {\n",
       "        vertical-align: top;\n",
       "    }\n",
       "\n",
       "    .dataframe thead th {\n",
       "        text-align: right;\n",
       "    }\n",
       "</style>\n",
       "<table border=\"1\" class=\"dataframe\">\n",
       "  <thead>\n",
       "    <tr style=\"text-align: right;\">\n",
       "      <th></th>\n",
       "      <th>location</th>\n",
       "      <th>country</th>\n",
       "      <th>gender</th>\n",
       "      <th>age</th>\n",
       "      <th>sym_on</th>\n",
       "      <th>hosp_vis</th>\n",
       "      <th>vis_wuhan</th>\n",
       "      <th>from_wuhan</th>\n",
       "      <th>death</th>\n",
       "      <th>recov</th>\n",
       "      <th>symptom1</th>\n",
       "      <th>symptom2</th>\n",
       "      <th>symptom3</th>\n",
       "      <th>symptom4</th>\n",
       "      <th>symptom5</th>\n",
       "      <th>symptom6</th>\n",
       "    </tr>\n",
       "  </thead>\n",
       "  <tbody>\n",
       "    <tr>\n",
       "      <th>0</th>\n",
       "      <td>Shenzhen, Guangdong</td>\n",
       "      <td>China</td>\n",
       "      <td>male</td>\n",
       "      <td>66.0</td>\n",
       "      <td>1/3/2020</td>\n",
       "      <td>1/11/2020</td>\n",
       "      <td>1</td>\n",
       "      <td>0.0</td>\n",
       "      <td>0</td>\n",
       "      <td>0</td>\n",
       "      <td>NaN</td>\n",
       "      <td>NaN</td>\n",
       "      <td>NaN</td>\n",
       "      <td>NaN</td>\n",
       "      <td>NaN</td>\n",
       "      <td>NaN</td>\n",
       "    </tr>\n",
       "    <tr>\n",
       "      <th>1</th>\n",
       "      <td>Shanghai</td>\n",
       "      <td>China</td>\n",
       "      <td>female</td>\n",
       "      <td>56.0</td>\n",
       "      <td>1/15/2020</td>\n",
       "      <td>1/15/2020</td>\n",
       "      <td>0</td>\n",
       "      <td>1.0</td>\n",
       "      <td>0</td>\n",
       "      <td>0</td>\n",
       "      <td>NaN</td>\n",
       "      <td>NaN</td>\n",
       "      <td>NaN</td>\n",
       "      <td>NaN</td>\n",
       "      <td>NaN</td>\n",
       "      <td>NaN</td>\n",
       "    </tr>\n",
       "    <tr>\n",
       "      <th>2</th>\n",
       "      <td>Zhejiang</td>\n",
       "      <td>China</td>\n",
       "      <td>male</td>\n",
       "      <td>46.0</td>\n",
       "      <td>1/4/2020</td>\n",
       "      <td>1/17/2020</td>\n",
       "      <td>0</td>\n",
       "      <td>1.0</td>\n",
       "      <td>0</td>\n",
       "      <td>0</td>\n",
       "      <td>NaN</td>\n",
       "      <td>NaN</td>\n",
       "      <td>NaN</td>\n",
       "      <td>NaN</td>\n",
       "      <td>NaN</td>\n",
       "      <td>NaN</td>\n",
       "    </tr>\n",
       "    <tr>\n",
       "      <th>3</th>\n",
       "      <td>Tianjin</td>\n",
       "      <td>China</td>\n",
       "      <td>female</td>\n",
       "      <td>60.0</td>\n",
       "      <td>NaN</td>\n",
       "      <td>NaN</td>\n",
       "      <td>1</td>\n",
       "      <td>0.0</td>\n",
       "      <td>0</td>\n",
       "      <td>0</td>\n",
       "      <td>NaN</td>\n",
       "      <td>NaN</td>\n",
       "      <td>NaN</td>\n",
       "      <td>NaN</td>\n",
       "      <td>NaN</td>\n",
       "      <td>NaN</td>\n",
       "    </tr>\n",
       "    <tr>\n",
       "      <th>4</th>\n",
       "      <td>Tianjin</td>\n",
       "      <td>China</td>\n",
       "      <td>male</td>\n",
       "      <td>58.0</td>\n",
       "      <td>NaN</td>\n",
       "      <td>NaN</td>\n",
       "      <td>0</td>\n",
       "      <td>0.0</td>\n",
       "      <td>0</td>\n",
       "      <td>0</td>\n",
       "      <td>NaN</td>\n",
       "      <td>NaN</td>\n",
       "      <td>NaN</td>\n",
       "      <td>NaN</td>\n",
       "      <td>NaN</td>\n",
       "      <td>NaN</td>\n",
       "    </tr>\n",
       "  </tbody>\n",
       "</table>\n",
       "</div>"
      ],
      "text/plain": [
       "              location country  gender   age     sym_on   hosp_vis  vis_wuhan  \\\n",
       "0  Shenzhen, Guangdong   China    male  66.0   1/3/2020  1/11/2020          1   \n",
       "1             Shanghai   China  female  56.0  1/15/2020  1/15/2020          0   \n",
       "2             Zhejiang   China    male  46.0   1/4/2020  1/17/2020          0   \n",
       "3              Tianjin   China  female  60.0        NaN        NaN          1   \n",
       "4              Tianjin   China    male  58.0        NaN        NaN          0   \n",
       "\n",
       "   from_wuhan  death  recov symptom1 symptom2 symptom3 symptom4 symptom5  \\\n",
       "0         0.0      0      0      NaN      NaN      NaN      NaN      NaN   \n",
       "1         1.0      0      0      NaN      NaN      NaN      NaN      NaN   \n",
       "2         1.0      0      0      NaN      NaN      NaN      NaN      NaN   \n",
       "3         0.0      0      0      NaN      NaN      NaN      NaN      NaN   \n",
       "4         0.0      0      0      NaN      NaN      NaN      NaN      NaN   \n",
       "\n",
       "  symptom6  \n",
       "0      NaN  \n",
       "1      NaN  \n",
       "2      NaN  \n",
       "3      NaN  \n",
       "4      NaN  "
      ]
     },
     "execution_count": 8,
     "metadata": {},
     "output_type": "execute_result"
    }
   ],
   "source": [
    "df.head()"
   ]
  },
  {
   "cell_type": "code",
   "execution_count": null,
   "metadata": {},
   "outputs": [],
   "source": [
    "df['sym_on'] = pd.to_datetime(df['sym_on'])  \n",
    "df['hosp_vis'] = pd.to_datetime(df['hosp_vis'])  \n",
    "df['sym_on']= df['sym_on'].map(dt.datetime.toordinal)  \n",
    "df['hosp_vis']= df['hosp_vis'].map(dt.datetime.toordinal)  \n",
    "df['diff_sym_hos']= df['hosp_vis'] - df['sym_on']  \n",
    "df=df.drop(['sym_on', 'hosp_vis'], axis=1)  "
   ]
  },
  {
   "cell_type": "code",
   "execution_count": 9,
   "metadata": {},
   "outputs": [
    {
     "data": {
      "text/plain": [
       "location         object\n",
       "country          object\n",
       "gender           object\n",
       "age             float64\n",
       "vis_wuhan        object\n",
       "from_wuhan       object\n",
       "death             int64\n",
       "recov             int64\n",
       "symptom1         object\n",
       "symptom2         object\n",
       "symptom3         object\n",
       "symptom4         object\n",
       "symptom5         object\n",
       "symptom6         object\n",
       "diff_sym_hos      int64\n",
       "dtype: object"
      ]
     },
     "execution_count": 9,
     "metadata": {},
     "output_type": "execute_result"
    }
   ],
   "source": [
    "df['location'] = df['location'].astype(str)  \n",
    "df['country'] = df['country'].astype(str)  \n",
    "df['gender'] = df['gender'].astype(str)  \n",
    "df['vis_wuhan'] = df['vis_wuhan'].astype(str)  \n",
    "df['from_wuhan'] = df['from_wuhan'].astype(str)  \n",
    "df['symptom1'] = df['symptom1'].astype(str)  \n",
    "df['symptom2'] = df['symptom2'].astype(str)  \n",
    "df['symptom3'] = df['symptom3'].astype(str)  \n",
    "df['symptom4'] = df['symptom4'].astype(str)  \n",
    "df['symptom5'] = df['symptom5'].astype(str)  \n",
    "df['symptom6'] = df['symptom6'].astype(str)  \n",
    "df.dtypes"
   ]
  },
  {
   "cell_type": "markdown",
   "metadata": {},
   "source": [
    "# Visualization"
   ]
  },
  {
   "cell_type": "code",
   "execution_count": 14,
   "metadata": {},
   "outputs": [],
   "source": [
    "import matplotlib.pyplot as plt\n",
    "def counter2(colname1,colname2):\n",
    "    colname1 = pd.Series(colname1)\n",
    "    colname2 = pd.Series(colname2)\n",
    "    count1 = 0\n",
    "    for i in range(min([colname1.size,colname2.size])):\n",
    "        if(colname1[i]==1 and colname2[i]==1):\n",
    "            count1 = count1+1\n",
    "    return count1\n",
    "\n",
    "def counter1(colname):\n",
    "    colname1 = pd.Series(colname)\n",
    "    count = 0\n",
    "    for i in range(colname1.size):\n",
    "        if(colname1[i]==1):\n",
    "            count = count+1\n",
    "    return count"
   ]
  },
  {
   "cell_type": "code",
   "execution_count": 16,
   "metadata": {},
   "outputs": [],
   "source": [
    "fwuh = counter1(df['from_wuhan'])\n",
    "vwuh = counter1(df['vis_wuhan'])"
   ]
  },
  {
   "cell_type": "code",
   "execution_count": null,
   "metadata": {},
   "outputs": [],
   "source": []
  }
 ],
 "metadata": {
  "kernelspec": {
   "display_name": "Python 3",
   "language": "python",
   "name": "python3"
  },
  "language_info": {
   "codemirror_mode": {
    "name": "ipython",
    "version": 3
   },
   "file_extension": ".py",
   "mimetype": "text/x-python",
   "name": "python",
   "nbconvert_exporter": "python",
   "pygments_lexer": "ipython3",
   "version": "3.7.7"
  }
 },
 "nbformat": 4,
 "nbformat_minor": 4
}
