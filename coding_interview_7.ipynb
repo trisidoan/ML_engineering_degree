{
 "cells": [
  {
   "cell_type": "markdown",
   "metadata": {},
   "source": [
    "## Find maximum number of people during an interval   \n",
    "\n",
    "given a list of data entries that represent entries and exits of groups of people into a building. An entry looks like this:   \n",
    "{\"timestamp\": 1526579928, count: 3, \"type\": \"enter\"}   \n",
    "This means 3 people entered the building. An exit looks like this:   \n",
    "{\"timestamp\": 1526580382, count: 2, \"type\": \"exit\"}   \n",
    "\n",
    "This means that 2 people exited the building.  \n",
    "Find the busiest period in the building, that is, the time with the most people in the building. Return it as a pair of (start, end) timestamps. You can assume the building always starts off and ends up empty, i.e. with 0 people inside."
   ]
  },
  {
   "cell_type": "markdown",
   "metadata": {},
   "source": [
    "Let’s try to think, if we can do better or not and the answer is yes.\n",
    "What if we separate the list into enter and exit list and sort them both separately, what would we get, let’s take a look.   \n",
    "Enter List:-      \n",
    "{\"timestamp\": 1, count: 10, \"type\": \"enter\"}   \n",
    "{\"timestamp\": 5, count: 1, \"type\": \"enter\"}   \n",
    "{\"timestamp\": 6, count: 1, \"type\": \"enter\"}   \n",
    "{\"timestamp\": 7, count: 1, \"type\": \"enter\"}   \n",
    "Exit List:-   \n",
    "{\"timestamp\": 3, count: 2, \"type\": \"exit\"}   \n",
    "{\"timestamp\": 9, count: 3, \"type\": \"exit\"}   \n",
    "{\"timestamp\": 10, count: 8, \"type\": \"exit\"}   \n"
   ]
  },
  {
   "cell_type": "markdown",
   "metadata": {},
   "source": [
    "Now that we have spliced the two lists and sorted them, let’s iterate over them and calculate number of people on the fly.   \n",
    "\n",
    "Step    Even type      Count of people Timestamp\n",
    "1        Enter          10              1   \n",
    "2        Exit           8               3   \n",
    "3        Enter          9               5   \n",
    "4        Enter          10              6   \n",
    "5        Enter          11              7   \n",
    "6        Exit           8               9   \n",
    "7        Exit           0               10   \n",
    "\n",
    "\n",
    "\n",
    "\n"
   ]
  },
  {
   "cell_type": "markdown",
   "metadata": {},
   "source": [
    "From the table, it’s evident that at timestamp 7, count of people is 11, which is maximum till now.\n",
    "We can figure this out in O(n) time by going over both the enter and exit lists at the same time"
   ]
  },
  {
   "cell_type": "code",
   "execution_count": null,
   "metadata": {},
   "outputs": [],
   "source": []
  }
 ],
 "metadata": {
  "kernelspec": {
   "display_name": "Python 3",
   "language": "python",
   "name": "python3"
  },
  "language_info": {
   "codemirror_mode": {
    "name": "ipython",
    "version": 3
   },
   "file_extension": ".py",
   "mimetype": "text/x-python",
   "name": "python",
   "nbconvert_exporter": "python",
   "pygments_lexer": "ipython3",
   "version": "3.7.7"
  }
 },
 "nbformat": 4,
 "nbformat_minor": 4
}
