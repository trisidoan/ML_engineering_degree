{
 "cells": [
  {
   "cell_type": "markdown",
   "metadata": {},
   "source": [
    "Task: Find the first repeated character in a string.   \n",
    "Ex: Find_first_repeat('abbcd')  -> b\n",
    "    Find_first_repeat('afbfb')  -> f"
   ]
  },
  {
   "cell_type": "code",
   "execution_count": 13,
   "metadata": {},
   "outputs": [
    {
     "name": "stdout",
     "output_type": "stream",
     "text": [
      "{'a': 2, 'b': 3, 'c': 2, 'd': 2}\n"
     ]
    }
   ],
   "source": [
    "dict = {}\n",
    "for c in 'abbcd':\n",
    "    dict[c] = dict.get(c,1) +1\n",
    "print(dict)    "
   ]
  },
  {
   "cell_type": "code",
   "execution_count": 12,
   "metadata": {},
   "outputs": [
    {
     "name": "stdout",
     "output_type": "stream",
     "text": [
      "a\n",
      "b\n",
      "b\n",
      "c\n",
      "d\n"
     ]
    }
   ],
   "source": [
    "for c in 'abbcd':\n",
    "    print(c)"
   ]
  },
  {
   "cell_type": "code",
   "execution_count": 10,
   "metadata": {},
   "outputs": [
    {
     "data": {
      "text/plain": [
       "4"
      ]
     },
     "execution_count": 10,
     "metadata": {},
     "output_type": "execute_result"
    }
   ],
   "source": [
    "dict['a']"
   ]
  },
  {
   "cell_type": "code",
   "execution_count": 48,
   "metadata": {},
   "outputs": [
    {
     "data": {
      "text/plain": [
       "'c'"
      ]
     },
     "execution_count": 48,
     "metadata": {},
     "output_type": "execute_result"
    }
   ],
   "source": [
    "def Find_first_repeat(str):\n",
    "    '''This version find only the first repeat character'''\n",
    "    dict ={}\n",
    "    for c in str:\n",
    "        dict[c] = dict.get(c,0) +1\n",
    "    return sorted(dict.items(), key= lambda x:x[1], reverse= True)[0][0]\n",
    "d=Find_first_repeat('cabbcd')\n",
    "d"
   ]
  },
  {
   "cell_type": "markdown",
   "metadata": {},
   "source": [
    "# find all repeated characters."
   ]
  },
  {
   "cell_type": "code",
   "execution_count": 58,
   "metadata": {},
   "outputs": [
    {
     "name": "stdout",
     "output_type": "stream",
     "text": [
      "c b\n"
     ]
    }
   ],
   "source": [
    "duplicates = []\n",
    "str= 'cabbcd'\n",
    "for char in str:\n",
    "   ## checking whether the character have a duplicate or not\n",
    "   ## str.count(char) returns the frequency of a char in the str\n",
    "    if str.count(char) > 1:\n",
    "   ## appending to the list if it's already not present\n",
    "       if char not in duplicates:\n",
    "           duplicates.append(char)\n",
    "print(*duplicates)"
   ]
  },
  {
   "cell_type": "code",
   "execution_count": 53,
   "metadata": {},
   "outputs": [
    {
     "data": {
      "text/plain": [
       "'a'"
      ]
     },
     "execution_count": 53,
     "metadata": {},
     "output_type": "execute_result"
    }
   ],
   "source": [
    "def Find_first_repeat_v2(str):\n",
    "    '''This version find the bigger repeat character'''\n",
    "    dict ={}\n",
    "    for c in str:\n",
    "        dict[c] = dict.get(c,0) +1\n",
    "    return sorted(dict.items(), key= lambda x:x[1], reverse= True)\n",
    "d=Find_first_repeat('abcd')\n",
    "d"
   ]
  },
  {
   "cell_type": "code",
   "execution_count": 28,
   "metadata": {},
   "outputs": [
    {
     "data": {
      "text/plain": [
       "{'a': 3, 'b': 4, 'c': 2}"
      ]
     },
     "execution_count": 28,
     "metadata": {},
     "output_type": "execute_result"
    }
   ],
   "source": [
    "dict ={}\n",
    "for c in 'ababbc':\n",
    "    dict[c] = dict.get(c,1) +1\n",
    "dict"
   ]
  },
  {
   "cell_type": "code",
   "execution_count": null,
   "metadata": {},
   "outputs": [],
   "source": [
    "sorted(d, key=d.get)[0] "
   ]
  }
 ],
 "metadata": {
  "kernelspec": {
   "display_name": "Python 3",
   "language": "python",
   "name": "python3"
  },
  "language_info": {
   "codemirror_mode": {
    "name": "ipython",
    "version": 3
   },
   "file_extension": ".py",
   "mimetype": "text/x-python",
   "name": "python",
   "nbconvert_exporter": "python",
   "pygments_lexer": "ipython3",
   "version": "3.7.7"
  }
 },
 "nbformat": 4,
 "nbformat_minor": 4
}
