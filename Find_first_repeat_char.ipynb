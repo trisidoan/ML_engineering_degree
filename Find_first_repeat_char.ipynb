{
 "cells": [
  {
   "cell_type": "markdown",
   "metadata": {},
   "source": [
    "Task: Find the first repeated character in a string.   \n",
    "Ex: Find_first_repeat('abbcd')  -> b\n",
    "    Find_first_repeat('afbfb')  -> f"
   ]
  },
  {
   "cell_type": "code",
   "execution_count": 1,
   "metadata": {},
   "outputs": [
    {
     "data": {
      "text/plain": [
       "'c'"
      ]
     },
     "execution_count": 1,
     "metadata": {},
     "output_type": "execute_result"
    }
   ],
   "source": [
    "def Find_first_repeat(str):\n",
    "    '''This version find only the first repeat character'''\n",
    "    dict ={}\n",
    "    for c in str:\n",
    "        dict[c] = dict.get(c,0) +1\n",
    "    return sorted(dict.items(), key= lambda x:x[1], reverse= True)[0][0]\n",
    "d=Find_first_repeat('cabbccccd')\n",
    "d"
   ]
  },
  {
   "cell_type": "code",
   "execution_count": 2,
   "metadata": {},
   "outputs": [
    {
     "data": {
      "text/plain": [
       "'c'"
      ]
     },
     "execution_count": 2,
     "metadata": {},
     "output_type": "execute_result"
    }
   ],
   "source": [
    "# case: non repeat\n",
    "Find_first_repeat('cabfd') # Error"
   ]
  },
  {
   "cell_type": "code",
   "execution_count": 3,
   "metadata": {},
   "outputs": [
    {
     "data": {
      "text/plain": [
       "[]"
      ]
     },
     "execution_count": 3,
     "metadata": {},
     "output_type": "execute_result"
    }
   ],
   "source": [
    "# test to fix \n",
    "dict = {}\n",
    "for c in 'abcd':\n",
    "    dict[c] = dict.get(c,0) +1 # Correct\n",
    "rs = [k for k,v in dict.items() if v > 1]\n",
    "rs"
   ]
  },
  {
   "cell_type": "code",
   "execution_count": 4,
   "metadata": {},
   "outputs": [
    {
     "name": "stdout",
     "output_type": "stream",
     "text": [
      "None\n"
     ]
    }
   ],
   "source": [
    "def Find_first_repeat_v1(str):\n",
    "    '''This version find only the first repeat character'''\n",
    "    dict ={}\n",
    "    for c in str:\n",
    "        dict[c] = dict.get(c,0) +1\n",
    "    rs = [k for k,v in dict.items() if v > 1]  \n",
    "    \n",
    "    return print('None') if not rs else rs[0]\n",
    "\n",
    "d=Find_first_repeat_v1('cad')\n",
    "d"
   ]
  },
  {
   "cell_type": "code",
   "execution_count": 5,
   "metadata": {},
   "outputs": [
    {
     "data": {
      "text/plain": [
       "'a'"
      ]
     },
     "execution_count": 5,
     "metadata": {},
     "output_type": "execute_result"
    }
   ],
   "source": [
    "Find_first_repeat_v1('caaddd')"
   ]
  },
  {
   "cell_type": "markdown",
   "metadata": {},
   "source": [
    "# find all repeated characters."
   ]
  },
  {
   "cell_type": "code",
   "execution_count": 7,
   "metadata": {},
   "outputs": [
    {
     "data": {
      "text/plain": [
       "['c', 'b']"
      ]
     },
     "execution_count": 7,
     "metadata": {},
     "output_type": "execute_result"
    }
   ],
   "source": [
    "\n",
    "def find_all_repeat(str):\n",
    "    duplicates = []\n",
    "    for char in str:\n",
    "       ## checking whether the character have a duplicate or not\n",
    "       ## str.count(char) returns the frequency of a char in the str\n",
    "        if str.count(char) > 1:\n",
    "       ## appending to the list if it's already not present\n",
    "           if char not in duplicates:\n",
    "               duplicates.append(char)\n",
    "    \n",
    "    return duplicates\n",
    "\n",
    "find_all_repeat('cabbcd')"
   ]
  },
  {
   "cell_type": "code",
   "execution_count": 72,
   "metadata": {},
   "outputs": [
    {
     "data": {
      "text/plain": [
       "'d'"
      ]
     },
     "execution_count": 72,
     "metadata": {},
     "output_type": "execute_result"
    }
   ],
   "source": [
    "def Find_first_repeat_v2(str):\n",
    "    '''This version find the bigger repeat character'''\n",
    "    dict ={}\n",
    "    for c in str:\n",
    "        dict[c] = dict.get(c,0) +1\n",
    "    \n",
    "    return sorted(dict, key=dict.get, reverse = True)[0]\n",
    "d=Find_first_repeat('abbcddd')\n",
    "d"
   ]
  },
  {
   "cell_type": "code",
   "execution_count": 37,
   "metadata": {},
   "outputs": [
    {
     "data": {
      "text/plain": [
       "'d'"
      ]
     },
     "execution_count": 37,
     "metadata": {},
     "output_type": "execute_result"
    }
   ],
   "source": [
    "def Find_last_repeat(str):\n",
    "    dict ={}\n",
    "    for c in str:\n",
    "        dict[c] = dict.get(c,0) +1\n",
    "    dict = sorted(dict, key=dict.get, reverse = True)   \n",
    "    rs =  [k for k,v in dict.items() if v > 1]  \n",
    "    return rs[-1]\n",
    "d=Find_first_repeat('abbcddd')\n",
    "d "
   ]
  },
  {
   "cell_type": "code",
   "execution_count": 36,
   "metadata": {},
   "outputs": [
    {
     "data": {
      "text/plain": [
       "'f'"
      ]
     },
     "execution_count": 36,
     "metadata": {},
     "output_type": "execute_result"
    }
   ],
   "source": [
    "d= ['b','a','f']\n",
    "d[-1]"
   ]
  },
  {
   "cell_type": "code",
   "execution_count": null,
   "metadata": {},
   "outputs": [],
   "source": []
  }
 ],
 "metadata": {
  "kernelspec": {
   "display_name": "Python 3",
   "language": "python",
   "name": "python3"
  },
  "language_info": {
   "codemirror_mode": {
    "name": "ipython",
    "version": 3
   },
   "file_extension": ".py",
   "mimetype": "text/x-python",
   "name": "python",
   "nbconvert_exporter": "python",
   "pygments_lexer": "ipython3",
   "version": "3.7.7"
  }
 },
 "nbformat": 4,
 "nbformat_minor": 4
}
