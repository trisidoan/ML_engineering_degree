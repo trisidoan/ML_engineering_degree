{
 "cells": [
  {
   "cell_type": "markdown",
   "metadata": {},
   "source": [
    "Task: Find the first repeated character in a string.   \n",
    "Ex: Find_first_repeat('abbcd')  -> b\n",
    "    Find_first_repeat('afbfb')  -> f"
   ]
  },
  {
   "cell_type": "code",
   "execution_count": 12,
   "metadata": {},
   "outputs": [
    {
     "data": {
      "text/plain": [
       "'c'"
      ]
     },
     "execution_count": 12,
     "metadata": {},
     "output_type": "execute_result"
    }
   ],
   "source": [
    "def Find_first_repeat(str):\n",
    "    '''This version find only the first repeat character'''\n",
    "    dict ={}\n",
    "    for c in str:\n",
    "        dict[c] = dict.get(c,0) +1\n",
    "    return sorted(dict.items(), key= lambda x:x[1], reverse= True)[0][0]\n",
    "d=Find_first_repeat('cabbccccd')\n",
    "d"
   ]
  },
  {
   "cell_type": "code",
   "execution_count": 13,
   "metadata": {},
   "outputs": [
    {
     "data": {
      "text/plain": [
       "'c'"
      ]
     },
     "execution_count": 13,
     "metadata": {},
     "output_type": "execute_result"
    }
   ],
   "source": [
    "# case: non repeat\n",
    "Find_first_repeat('cabfd') # Error"
   ]
  },
  {
   "cell_type": "code",
   "execution_count": 15,
   "metadata": {},
   "outputs": [
    {
     "data": {
      "text/plain": [
       "[]"
      ]
     },
     "execution_count": 15,
     "metadata": {},
     "output_type": "execute_result"
    }
   ],
   "source": [
    "# test to fix \n",
    "dict = {}\n",
    "for c in 'abcd':\n",
    "    dict[c] = dict.get(c,0) +1 # Correct\n",
    "rs = [k for k,v in dict.items() if v > 1]\n",
    "rs"
   ]
  },
  {
   "cell_type": "code",
   "execution_count": 25,
   "metadata": {},
   "outputs": [],
   "source": [
    "rs = []\n",
    "None if not rs else rs[0]"
   ]
  },
  {
   "cell_type": "code",
   "execution_count": 27,
   "metadata": {},
   "outputs": [
    {
     "data": {
      "text/plain": [
       "'c'"
      ]
     },
     "execution_count": 27,
     "metadata": {},
     "output_type": "execute_result"
    }
   ],
   "source": [
    "def Find_first_repeat_v1(str):\n",
    "    '''This version find only the first repeat character'''\n",
    "    dict ={}\n",
    "    for c in str:\n",
    "        dict[c] = dict.get(c,0) +1\n",
    "    rs = [k for k,v in dict.items() if v > 1]  \n",
    "    \n",
    "    return None if not rs else rs[0]\n",
    "\n",
    "d=Find_first_repeat('cad')\n",
    "d"
   ]
  },
  {
   "cell_type": "markdown",
   "metadata": {},
   "source": [
    "# find all repeated characters."
   ]
  },
  {
   "cell_type": "code",
   "execution_count": 58,
   "metadata": {},
   "outputs": [
    {
     "name": "stdout",
     "output_type": "stream",
     "text": [
      "c b\n"
     ]
    }
   ],
   "source": [
    "duplicates = []\n",
    "str= 'cabbcd'\n",
    "for char in str:\n",
    "   ## checking whether the character have a duplicate or not\n",
    "   ## str.count(char) returns the frequency of a char in the str\n",
    "    if str.count(char) > 1:\n",
    "   ## appending to the list if it's already not present\n",
    "       if char not in duplicates:\n",
    "           duplicates.append(char)\n",
    "print(*duplicates)"
   ]
  },
  {
   "cell_type": "code",
   "execution_count": 72,
   "metadata": {},
   "outputs": [
    {
     "data": {
      "text/plain": [
       "'d'"
      ]
     },
     "execution_count": 72,
     "metadata": {},
     "output_type": "execute_result"
    }
   ],
   "source": [
    "def Find_first_repeat_v2(str):\n",
    "    '''This version find the bigger repeat character'''\n",
    "    dict ={}\n",
    "    for c in str:\n",
    "        dict[c] = dict.get(c,0) +1\n",
    "    \n",
    "    return sorted(dict, key=dict.get, reverse = True)[0]\n",
    "d=Find_first_repeat('abbcddd')\n",
    "d"
   ]
  },
  {
   "cell_type": "code",
   "execution_count": 66,
   "metadata": {},
   "outputs": [
    {
     "data": {
      "text/plain": [
       "{'a': 3, 'b': 4, 'c': 2}"
      ]
     },
     "execution_count": 66,
     "metadata": {},
     "output_type": "execute_result"
    }
   ],
   "source": [
    "dict ={}\n",
    "for c in 'ababbc':\n",
    "    dict[c] = dict.get(c,1) +1\n",
    "dict"
   ]
  },
  {
   "cell_type": "code",
   "execution_count": 70,
   "metadata": {},
   "outputs": [
    {
     "data": {
      "text/plain": [
       "'b'"
      ]
     },
     "execution_count": 70,
     "metadata": {},
     "output_type": "execute_result"
    }
   ],
   "source": [
    "sorted(dict, key=dict.get, reverse = True)[0]"
   ]
  },
  {
   "cell_type": "code",
   "execution_count": null,
   "metadata": {},
   "outputs": [],
   "source": []
  }
 ],
 "metadata": {
  "kernelspec": {
   "display_name": "Python 3",
   "language": "python",
   "name": "python3"
  },
  "language_info": {
   "codemirror_mode": {
    "name": "ipython",
    "version": 3
   },
   "file_extension": ".py",
   "mimetype": "text/x-python",
   "name": "python",
   "nbconvert_exporter": "python",
   "pygments_lexer": "ipython3",
   "version": "3.7.7"
  }
 },
 "nbformat": 4,
 "nbformat_minor": 4
}
