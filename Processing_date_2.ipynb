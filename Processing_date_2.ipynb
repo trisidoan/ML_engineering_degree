{
 "cells": [
  {
   "cell_type": "markdown",
   "metadata": {},
   "source": [
    "This notebook consists of several functions that are useful for data analysis."
   ]
  },
  {
   "cell_type": "code",
   "execution_count": 1,
   "metadata": {},
   "outputs": [],
   "source": [
    "from IPython.core.interactiveshell import InteractiveShell\n",
    "InteractiveShell.ast_node_interactivity =\"all\""
   ]
  },
  {
   "cell_type": "code",
   "execution_count": 4,
   "metadata": {},
   "outputs": [],
   "source": [
    "import sys\n",
    "sys.path.append('../../')\n",
    "import seaborn as sns\n",
    "sns.set()\n",
    "\n",
    "from datetime import datetime,date, timedelta\n",
    "\n",
    "import pandas as pd, numpy as np, math, networkx as nx\n"
   ]
  },
  {
   "cell_type": "code",
   "execution_count": 9,
   "metadata": {},
   "outputs": [],
   "source": [
    "def get_previous_month(someday):\n",
    "    \n",
    "    given_date = datetime.strptime(someday,'%m/%d/%Y').date()\n",
    "    \n",
    "    first = given_date.replace(day =1)\n",
    "    lastMonth = first - timedelta(days =1)\n",
    "    \n",
    "    return lastMonth.replace(day = given_date.day)"
   ]
  },
  {
   "cell_type": "code",
   "execution_count": 10,
   "metadata": {},
   "outputs": [
    {
     "name": "stdout",
     "output_type": "stream",
     "text": [
      "2019-12-24\n"
     ]
    }
   ],
   "source": [
    "print(get_previous_month('01/24/2020'))"
   ]
  },
  {
   "cell_type": "code",
   "execution_count": 17,
   "metadata": {},
   "outputs": [],
   "source": [
    "def get_prev_month(somedate):\n",
    "    given_date  = datetime.strptime(somedate,'%Y/%m/%d').date()\n",
    "    first= given_date.replace(day =1)\n",
    "    lastMonth = first - timedelta(days=1)\n",
    "    rs_date = lastMonth.replace(day = given_date.day)\n",
    "    return rs_date.strftime(\"%Y/%m/%d\")"
   ]
  },
  {
   "cell_type": "code",
   "execution_count": 18,
   "metadata": {},
   "outputs": [
    {
     "name": "stdout",
     "output_type": "stream",
     "text": [
      "2019-12-24\n"
     ]
    }
   ],
   "source": [
    "print(get_previous_month('01/24/2020'))"
   ]
  },
  {
   "cell_type": "code",
   "execution_count": 20,
   "metadata": {},
   "outputs": [
    {
     "name": "stdout",
     "output_type": "stream",
     "text": [
      "2020/01/26  to  2020/02/26\n",
      "2019/12/26  to  2020/01/26\n",
      "2019/11/26  to  2019/12/26\n",
      "2019/10/26  to  2019/11/26\n",
      "2019/09/26  to  2019/10/26\n",
      "2019/08/26  to  2019/09/26\n",
      "2019/07/26  to  2019/08/26\n",
      "2019/06/26  to  2019/07/26\n",
      "2019/05/26  to  2019/06/26\n",
      "2019/04/26  to  2019/05/26\n"
     ]
    }
   ],
   "source": [
    "some_day = '2020/02/26'\n",
    "duration = 10\n",
    "for month in range(duration):\n",
    "    prev  = get_prev_month(some_day)\n",
    "    print(prev,' to ', some_day)\n",
    "    some_day = prev\n",
    "    "
   ]
  },
  {
   "cell_type": "code",
   "execution_count": null,
   "metadata": {},
   "outputs": [],
   "source": []
  }
 ],
 "metadata": {
  "kernelspec": {
   "display_name": "Python 3",
   "language": "python",
   "name": "python3"
  },
  "language_info": {
   "codemirror_mode": {
    "name": "ipython",
    "version": 3
   },
   "file_extension": ".py",
   "mimetype": "text/x-python",
   "name": "python",
   "nbconvert_exporter": "python",
   "pygments_lexer": "ipython3",
   "version": "3.7.7"
  }
 },
 "nbformat": 4,
 "nbformat_minor": 4
}
